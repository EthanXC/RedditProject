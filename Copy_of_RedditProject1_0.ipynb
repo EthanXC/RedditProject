{
  "cells": [
    {
      "cell_type": "markdown",
      "metadata": {
        "id": "view-in-github",
        "colab_type": "text"
      },
      "source": [
        "<a href=\"https://colab.research.google.com/github/EthanXC/RedditProject/blob/main/Copy_of_RedditProject1_0.ipynb\" target=\"_parent\"><img src=\"https://colab.research.google.com/assets/colab-badge.svg\" alt=\"Open In Colab\"/></a>"
      ]
    },
    {
      "cell_type": "code",
      "execution_count": 1,
      "metadata": {
        "id": "jOusy2TIyNIr",
        "colab": {
          "base_uri": "https://localhost:8080/"
        },
        "outputId": "73c84a83-a5bf-4f91-9a33-7ad3af9f0511"
      },
      "outputs": [
        {
          "output_type": "stream",
          "name": "stdout",
          "text": [
            "Requirement already satisfied: datasets in /usr/local/lib/python3.10/dist-packages (2.19.0)\n",
            "Requirement already satisfied: filelock in /usr/local/lib/python3.10/dist-packages (from datasets) (3.13.4)\n",
            "Requirement already satisfied: numpy>=1.17 in /usr/local/lib/python3.10/dist-packages (from datasets) (1.25.2)\n",
            "Requirement already satisfied: pyarrow>=12.0.0 in /usr/local/lib/python3.10/dist-packages (from datasets) (14.0.2)\n",
            "Requirement already satisfied: pyarrow-hotfix in /usr/local/lib/python3.10/dist-packages (from datasets) (0.6)\n",
            "Requirement already satisfied: dill<0.3.9,>=0.3.0 in /usr/local/lib/python3.10/dist-packages (from datasets) (0.3.8)\n",
            "Requirement already satisfied: pandas in /usr/local/lib/python3.10/dist-packages (from datasets) (2.0.3)\n",
            "Requirement already satisfied: requests>=2.19.0 in /usr/local/lib/python3.10/dist-packages (from datasets) (2.31.0)\n",
            "Requirement already satisfied: tqdm>=4.62.1 in /usr/local/lib/python3.10/dist-packages (from datasets) (4.66.2)\n",
            "Requirement already satisfied: xxhash in /usr/local/lib/python3.10/dist-packages (from datasets) (3.4.1)\n",
            "Requirement already satisfied: multiprocess in /usr/local/lib/python3.10/dist-packages (from datasets) (0.70.16)\n",
            "Requirement already satisfied: fsspec[http]<=2024.3.1,>=2023.1.0 in /usr/local/lib/python3.10/dist-packages (from datasets) (2023.6.0)\n",
            "Requirement already satisfied: aiohttp in /usr/local/lib/python3.10/dist-packages (from datasets) (3.9.5)\n",
            "Requirement already satisfied: huggingface-hub>=0.21.2 in /usr/local/lib/python3.10/dist-packages (from datasets) (0.22.2)\n",
            "Requirement already satisfied: packaging in /usr/local/lib/python3.10/dist-packages (from datasets) (24.0)\n",
            "Requirement already satisfied: pyyaml>=5.1 in /usr/local/lib/python3.10/dist-packages (from datasets) (6.0.1)\n",
            "Requirement already satisfied: aiosignal>=1.1.2 in /usr/local/lib/python3.10/dist-packages (from aiohttp->datasets) (1.3.1)\n",
            "Requirement already satisfied: attrs>=17.3.0 in /usr/local/lib/python3.10/dist-packages (from aiohttp->datasets) (23.2.0)\n",
            "Requirement already satisfied: frozenlist>=1.1.1 in /usr/local/lib/python3.10/dist-packages (from aiohttp->datasets) (1.4.1)\n",
            "Requirement already satisfied: multidict<7.0,>=4.5 in /usr/local/lib/python3.10/dist-packages (from aiohttp->datasets) (6.0.5)\n",
            "Requirement already satisfied: yarl<2.0,>=1.0 in /usr/local/lib/python3.10/dist-packages (from aiohttp->datasets) (1.9.4)\n",
            "Requirement already satisfied: async-timeout<5.0,>=4.0 in /usr/local/lib/python3.10/dist-packages (from aiohttp->datasets) (4.0.3)\n",
            "Requirement already satisfied: typing-extensions>=3.7.4.3 in /usr/local/lib/python3.10/dist-packages (from huggingface-hub>=0.21.2->datasets) (4.11.0)\n",
            "Requirement already satisfied: charset-normalizer<4,>=2 in /usr/local/lib/python3.10/dist-packages (from requests>=2.19.0->datasets) (3.3.2)\n",
            "Requirement already satisfied: idna<4,>=2.5 in /usr/local/lib/python3.10/dist-packages (from requests>=2.19.0->datasets) (3.7)\n",
            "Requirement already satisfied: urllib3<3,>=1.21.1 in /usr/local/lib/python3.10/dist-packages (from requests>=2.19.0->datasets) (2.0.7)\n",
            "Requirement already satisfied: certifi>=2017.4.17 in /usr/local/lib/python3.10/dist-packages (from requests>=2.19.0->datasets) (2024.2.2)\n",
            "Requirement already satisfied: python-dateutil>=2.8.2 in /usr/local/lib/python3.10/dist-packages (from pandas->datasets) (2.8.2)\n",
            "Requirement already satisfied: pytz>=2020.1 in /usr/local/lib/python3.10/dist-packages (from pandas->datasets) (2023.4)\n",
            "Requirement already satisfied: tzdata>=2022.1 in /usr/local/lib/python3.10/dist-packages (from pandas->datasets) (2024.1)\n",
            "Requirement already satisfied: six>=1.5 in /usr/local/lib/python3.10/dist-packages (from python-dateutil>=2.8.2->pandas->datasets) (1.16.0)\n",
            "Requirement already satisfied: transformers in /usr/local/lib/python3.10/dist-packages (4.40.0)\n",
            "Requirement already satisfied: filelock in /usr/local/lib/python3.10/dist-packages (from transformers) (3.13.4)\n",
            "Requirement already satisfied: huggingface-hub<1.0,>=0.19.3 in /usr/local/lib/python3.10/dist-packages (from transformers) (0.22.2)\n",
            "Requirement already satisfied: numpy>=1.17 in /usr/local/lib/python3.10/dist-packages (from transformers) (1.25.2)\n",
            "Requirement already satisfied: packaging>=20.0 in /usr/local/lib/python3.10/dist-packages (from transformers) (24.0)\n",
            "Requirement already satisfied: pyyaml>=5.1 in /usr/local/lib/python3.10/dist-packages (from transformers) (6.0.1)\n",
            "Requirement already satisfied: regex!=2019.12.17 in /usr/local/lib/python3.10/dist-packages (from transformers) (2023.12.25)\n",
            "Requirement already satisfied: requests in /usr/local/lib/python3.10/dist-packages (from transformers) (2.31.0)\n",
            "Requirement already satisfied: tokenizers<0.20,>=0.19 in /usr/local/lib/python3.10/dist-packages (from transformers) (0.19.1)\n",
            "Requirement already satisfied: safetensors>=0.4.1 in /usr/local/lib/python3.10/dist-packages (from transformers) (0.4.3)\n",
            "Requirement already satisfied: tqdm>=4.27 in /usr/local/lib/python3.10/dist-packages (from transformers) (4.66.2)\n",
            "Requirement already satisfied: fsspec>=2023.5.0 in /usr/local/lib/python3.10/dist-packages (from huggingface-hub<1.0,>=0.19.3->transformers) (2023.6.0)\n",
            "Requirement already satisfied: typing-extensions>=3.7.4.3 in /usr/local/lib/python3.10/dist-packages (from huggingface-hub<1.0,>=0.19.3->transformers) (4.11.0)\n",
            "Requirement already satisfied: charset-normalizer<4,>=2 in /usr/local/lib/python3.10/dist-packages (from requests->transformers) (3.3.2)\n",
            "Requirement already satisfied: idna<4,>=2.5 in /usr/local/lib/python3.10/dist-packages (from requests->transformers) (3.7)\n",
            "Requirement already satisfied: urllib3<3,>=1.21.1 in /usr/local/lib/python3.10/dist-packages (from requests->transformers) (2.0.7)\n",
            "Requirement already satisfied: certifi>=2017.4.17 in /usr/local/lib/python3.10/dist-packages (from requests->transformers) (2024.2.2)\n",
            "Requirement already satisfied: accelerate in /usr/local/lib/python3.10/dist-packages (0.29.3)\n",
            "Requirement already satisfied: numpy>=1.17 in /usr/local/lib/python3.10/dist-packages (from accelerate) (1.25.2)\n",
            "Requirement already satisfied: packaging>=20.0 in /usr/local/lib/python3.10/dist-packages (from accelerate) (24.0)\n",
            "Requirement already satisfied: psutil in /usr/local/lib/python3.10/dist-packages (from accelerate) (5.9.5)\n",
            "Requirement already satisfied: pyyaml in /usr/local/lib/python3.10/dist-packages (from accelerate) (6.0.1)\n",
            "Requirement already satisfied: torch>=1.10.0 in /usr/local/lib/python3.10/dist-packages (from accelerate) (2.2.1+cu121)\n",
            "Requirement already satisfied: huggingface-hub in /usr/local/lib/python3.10/dist-packages (from accelerate) (0.22.2)\n",
            "Requirement already satisfied: safetensors>=0.3.1 in /usr/local/lib/python3.10/dist-packages (from accelerate) (0.4.3)\n",
            "Requirement already satisfied: filelock in /usr/local/lib/python3.10/dist-packages (from torch>=1.10.0->accelerate) (3.13.4)\n",
            "Requirement already satisfied: typing-extensions>=4.8.0 in /usr/local/lib/python3.10/dist-packages (from torch>=1.10.0->accelerate) (4.11.0)\n",
            "Requirement already satisfied: sympy in /usr/local/lib/python3.10/dist-packages (from torch>=1.10.0->accelerate) (1.12)\n",
            "Requirement already satisfied: networkx in /usr/local/lib/python3.10/dist-packages (from torch>=1.10.0->accelerate) (3.3)\n",
            "Requirement already satisfied: jinja2 in /usr/local/lib/python3.10/dist-packages (from torch>=1.10.0->accelerate) (3.1.3)\n",
            "Requirement already satisfied: fsspec in /usr/local/lib/python3.10/dist-packages (from torch>=1.10.0->accelerate) (2023.6.0)\n",
            "Requirement already satisfied: nvidia-cuda-nvrtc-cu12==12.1.105 in /usr/local/lib/python3.10/dist-packages (from torch>=1.10.0->accelerate) (12.1.105)\n",
            "Requirement already satisfied: nvidia-cuda-runtime-cu12==12.1.105 in /usr/local/lib/python3.10/dist-packages (from torch>=1.10.0->accelerate) (12.1.105)\n",
            "Requirement already satisfied: nvidia-cuda-cupti-cu12==12.1.105 in /usr/local/lib/python3.10/dist-packages (from torch>=1.10.0->accelerate) (12.1.105)\n",
            "Requirement already satisfied: nvidia-cudnn-cu12==8.9.2.26 in /usr/local/lib/python3.10/dist-packages (from torch>=1.10.0->accelerate) (8.9.2.26)\n",
            "Requirement already satisfied: nvidia-cublas-cu12==12.1.3.1 in /usr/local/lib/python3.10/dist-packages (from torch>=1.10.0->accelerate) (12.1.3.1)\n",
            "Requirement already satisfied: nvidia-cufft-cu12==11.0.2.54 in /usr/local/lib/python3.10/dist-packages (from torch>=1.10.0->accelerate) (11.0.2.54)\n",
            "Requirement already satisfied: nvidia-curand-cu12==10.3.2.106 in /usr/local/lib/python3.10/dist-packages (from torch>=1.10.0->accelerate) (10.3.2.106)\n",
            "Requirement already satisfied: nvidia-cusolver-cu12==11.4.5.107 in /usr/local/lib/python3.10/dist-packages (from torch>=1.10.0->accelerate) (11.4.5.107)\n",
            "Requirement already satisfied: nvidia-cusparse-cu12==12.1.0.106 in /usr/local/lib/python3.10/dist-packages (from torch>=1.10.0->accelerate) (12.1.0.106)\n",
            "Requirement already satisfied: nvidia-nccl-cu12==2.19.3 in /usr/local/lib/python3.10/dist-packages (from torch>=1.10.0->accelerate) (2.19.3)\n",
            "Requirement already satisfied: nvidia-nvtx-cu12==12.1.105 in /usr/local/lib/python3.10/dist-packages (from torch>=1.10.0->accelerate) (12.1.105)\n",
            "Requirement already satisfied: triton==2.2.0 in /usr/local/lib/python3.10/dist-packages (from torch>=1.10.0->accelerate) (2.2.0)\n",
            "Requirement already satisfied: nvidia-nvjitlink-cu12 in /usr/local/lib/python3.10/dist-packages (from nvidia-cusolver-cu12==11.4.5.107->torch>=1.10.0->accelerate) (12.4.127)\n",
            "Requirement already satisfied: requests in /usr/local/lib/python3.10/dist-packages (from huggingface-hub->accelerate) (2.31.0)\n",
            "Requirement already satisfied: tqdm>=4.42.1 in /usr/local/lib/python3.10/dist-packages (from huggingface-hub->accelerate) (4.66.2)\n",
            "Requirement already satisfied: MarkupSafe>=2.0 in /usr/local/lib/python3.10/dist-packages (from jinja2->torch>=1.10.0->accelerate) (2.1.5)\n",
            "Requirement already satisfied: charset-normalizer<4,>=2 in /usr/local/lib/python3.10/dist-packages (from requests->huggingface-hub->accelerate) (3.3.2)\n",
            "Requirement already satisfied: idna<4,>=2.5 in /usr/local/lib/python3.10/dist-packages (from requests->huggingface-hub->accelerate) (3.7)\n",
            "Requirement already satisfied: urllib3<3,>=1.21.1 in /usr/local/lib/python3.10/dist-packages (from requests->huggingface-hub->accelerate) (2.0.7)\n",
            "Requirement already satisfied: certifi>=2017.4.17 in /usr/local/lib/python3.10/dist-packages (from requests->huggingface-hub->accelerate) (2024.2.2)\n",
            "Requirement already satisfied: mpmath>=0.19 in /usr/local/lib/python3.10/dist-packages (from sympy->torch>=1.10.0->accelerate) (1.3.0)\n",
            "Requirement already satisfied: datasets in /usr/local/lib/python3.10/dist-packages (2.19.0)\n",
            "Requirement already satisfied: transformers in /usr/local/lib/python3.10/dist-packages (4.40.0)\n",
            "Requirement already satisfied: torch in /usr/local/lib/python3.10/dist-packages (2.2.1+cu121)\n",
            "Requirement already satisfied: evaluate in /usr/local/lib/python3.10/dist-packages (0.4.1)\n",
            "Requirement already satisfied: nltk in /usr/local/lib/python3.10/dist-packages (3.8.1)\n",
            "Requirement already satisfied: rouge_score in /usr/local/lib/python3.10/dist-packages (0.1.2)\n",
            "Requirement already satisfied: filelock in /usr/local/lib/python3.10/dist-packages (from datasets) (3.13.4)\n",
            "Requirement already satisfied: numpy>=1.17 in /usr/local/lib/python3.10/dist-packages (from datasets) (1.25.2)\n",
            "Requirement already satisfied: pyarrow>=12.0.0 in /usr/local/lib/python3.10/dist-packages (from datasets) (14.0.2)\n",
            "Requirement already satisfied: pyarrow-hotfix in /usr/local/lib/python3.10/dist-packages (from datasets) (0.6)\n",
            "Requirement already satisfied: dill<0.3.9,>=0.3.0 in /usr/local/lib/python3.10/dist-packages (from datasets) (0.3.8)\n",
            "Requirement already satisfied: pandas in /usr/local/lib/python3.10/dist-packages (from datasets) (2.0.3)\n",
            "Requirement already satisfied: requests>=2.19.0 in /usr/local/lib/python3.10/dist-packages (from datasets) (2.31.0)\n",
            "Requirement already satisfied: tqdm>=4.62.1 in /usr/local/lib/python3.10/dist-packages (from datasets) (4.66.2)\n",
            "Requirement already satisfied: xxhash in /usr/local/lib/python3.10/dist-packages (from datasets) (3.4.1)\n",
            "Requirement already satisfied: multiprocess in /usr/local/lib/python3.10/dist-packages (from datasets) (0.70.16)\n",
            "Requirement already satisfied: fsspec[http]<=2024.3.1,>=2023.1.0 in /usr/local/lib/python3.10/dist-packages (from datasets) (2023.6.0)\n",
            "Requirement already satisfied: aiohttp in /usr/local/lib/python3.10/dist-packages (from datasets) (3.9.5)\n",
            "Requirement already satisfied: huggingface-hub>=0.21.2 in /usr/local/lib/python3.10/dist-packages (from datasets) (0.22.2)\n",
            "Requirement already satisfied: packaging in /usr/local/lib/python3.10/dist-packages (from datasets) (24.0)\n",
            "Requirement already satisfied: pyyaml>=5.1 in /usr/local/lib/python3.10/dist-packages (from datasets) (6.0.1)\n",
            "Requirement already satisfied: regex!=2019.12.17 in /usr/local/lib/python3.10/dist-packages (from transformers) (2023.12.25)\n",
            "Requirement already satisfied: tokenizers<0.20,>=0.19 in /usr/local/lib/python3.10/dist-packages (from transformers) (0.19.1)\n",
            "Requirement already satisfied: safetensors>=0.4.1 in /usr/local/lib/python3.10/dist-packages (from transformers) (0.4.3)\n",
            "Requirement already satisfied: typing-extensions>=4.8.0 in /usr/local/lib/python3.10/dist-packages (from torch) (4.11.0)\n",
            "Requirement already satisfied: sympy in /usr/local/lib/python3.10/dist-packages (from torch) (1.12)\n",
            "Requirement already satisfied: networkx in /usr/local/lib/python3.10/dist-packages (from torch) (3.3)\n",
            "Requirement already satisfied: jinja2 in /usr/local/lib/python3.10/dist-packages (from torch) (3.1.3)\n",
            "Requirement already satisfied: nvidia-cuda-nvrtc-cu12==12.1.105 in /usr/local/lib/python3.10/dist-packages (from torch) (12.1.105)\n",
            "Requirement already satisfied: nvidia-cuda-runtime-cu12==12.1.105 in /usr/local/lib/python3.10/dist-packages (from torch) (12.1.105)\n",
            "Requirement already satisfied: nvidia-cuda-cupti-cu12==12.1.105 in /usr/local/lib/python3.10/dist-packages (from torch) (12.1.105)\n",
            "Requirement already satisfied: nvidia-cudnn-cu12==8.9.2.26 in /usr/local/lib/python3.10/dist-packages (from torch) (8.9.2.26)\n",
            "Requirement already satisfied: nvidia-cublas-cu12==12.1.3.1 in /usr/local/lib/python3.10/dist-packages (from torch) (12.1.3.1)\n",
            "Requirement already satisfied: nvidia-cufft-cu12==11.0.2.54 in /usr/local/lib/python3.10/dist-packages (from torch) (11.0.2.54)\n",
            "Requirement already satisfied: nvidia-curand-cu12==10.3.2.106 in /usr/local/lib/python3.10/dist-packages (from torch) (10.3.2.106)\n",
            "Requirement already satisfied: nvidia-cusolver-cu12==11.4.5.107 in /usr/local/lib/python3.10/dist-packages (from torch) (11.4.5.107)\n",
            "Requirement already satisfied: nvidia-cusparse-cu12==12.1.0.106 in /usr/local/lib/python3.10/dist-packages (from torch) (12.1.0.106)\n",
            "Requirement already satisfied: nvidia-nccl-cu12==2.19.3 in /usr/local/lib/python3.10/dist-packages (from torch) (2.19.3)\n",
            "Requirement already satisfied: nvidia-nvtx-cu12==12.1.105 in /usr/local/lib/python3.10/dist-packages (from torch) (12.1.105)\n",
            "Requirement already satisfied: triton==2.2.0 in /usr/local/lib/python3.10/dist-packages (from torch) (2.2.0)\n",
            "Requirement already satisfied: nvidia-nvjitlink-cu12 in /usr/local/lib/python3.10/dist-packages (from nvidia-cusolver-cu12==11.4.5.107->torch) (12.4.127)\n",
            "Requirement already satisfied: responses<0.19 in /usr/local/lib/python3.10/dist-packages (from evaluate) (0.18.0)\n",
            "Requirement already satisfied: click in /usr/local/lib/python3.10/dist-packages (from nltk) (8.1.7)\n",
            "Requirement already satisfied: joblib in /usr/local/lib/python3.10/dist-packages (from nltk) (1.4.0)\n",
            "Requirement already satisfied: absl-py in /usr/local/lib/python3.10/dist-packages (from rouge_score) (1.4.0)\n",
            "Requirement already satisfied: six>=1.14.0 in /usr/local/lib/python3.10/dist-packages (from rouge_score) (1.16.0)\n",
            "Requirement already satisfied: aiosignal>=1.1.2 in /usr/local/lib/python3.10/dist-packages (from aiohttp->datasets) (1.3.1)\n",
            "Requirement already satisfied: attrs>=17.3.0 in /usr/local/lib/python3.10/dist-packages (from aiohttp->datasets) (23.2.0)\n",
            "Requirement already satisfied: frozenlist>=1.1.1 in /usr/local/lib/python3.10/dist-packages (from aiohttp->datasets) (1.4.1)\n",
            "Requirement already satisfied: multidict<7.0,>=4.5 in /usr/local/lib/python3.10/dist-packages (from aiohttp->datasets) (6.0.5)\n",
            "Requirement already satisfied: yarl<2.0,>=1.0 in /usr/local/lib/python3.10/dist-packages (from aiohttp->datasets) (1.9.4)\n",
            "Requirement already satisfied: async-timeout<5.0,>=4.0 in /usr/local/lib/python3.10/dist-packages (from aiohttp->datasets) (4.0.3)\n",
            "Requirement already satisfied: charset-normalizer<4,>=2 in /usr/local/lib/python3.10/dist-packages (from requests>=2.19.0->datasets) (3.3.2)\n",
            "Requirement already satisfied: idna<4,>=2.5 in /usr/local/lib/python3.10/dist-packages (from requests>=2.19.0->datasets) (3.7)\n",
            "Requirement already satisfied: urllib3<3,>=1.21.1 in /usr/local/lib/python3.10/dist-packages (from requests>=2.19.0->datasets) (2.0.7)\n",
            "Requirement already satisfied: certifi>=2017.4.17 in /usr/local/lib/python3.10/dist-packages (from requests>=2.19.0->datasets) (2024.2.2)\n",
            "Requirement already satisfied: MarkupSafe>=2.0 in /usr/local/lib/python3.10/dist-packages (from jinja2->torch) (2.1.5)\n",
            "Requirement already satisfied: python-dateutil>=2.8.2 in /usr/local/lib/python3.10/dist-packages (from pandas->datasets) (2.8.2)\n",
            "Requirement already satisfied: pytz>=2020.1 in /usr/local/lib/python3.10/dist-packages (from pandas->datasets) (2023.4)\n",
            "Requirement already satisfied: tzdata>=2022.1 in /usr/local/lib/python3.10/dist-packages (from pandas->datasets) (2024.1)\n",
            "Requirement already satisfied: mpmath>=0.19 in /usr/local/lib/python3.10/dist-packages (from sympy->torch) (1.3.0)\n",
            "Requirement already satisfied: pyyaml in /usr/local/lib/python3.10/dist-packages (6.0.1)\n",
            "Requirement already satisfied: h5py in /usr/local/lib/python3.10/dist-packages (3.9.0)\n",
            "Requirement already satisfied: numpy>=1.17.3 in /usr/local/lib/python3.10/dist-packages (from h5py) (1.25.2)\n"
          ]
        }
      ],
      "source": [
        "import numpy as np\n",
        "import pandas as pd\n",
        "!pip install datasets\n",
        "# FYI the accellerate -u is very important to avoid version issues with torch\n",
        "!pip install transformers\n",
        "!pip install accelerate -U\n",
        "from transformers import AutoTokenizer, RobertaForSequenceClassification\n",
        "import torch\n",
        "from transformers import RobertaTokenizer, RobertaForSequenceClassification\n",
        "from transformers import TextDataset, DataCollatorForLanguageModeling\n",
        "from transformers import TrainingArguments, Trainer\n",
        "from transformers import AutoTokenizer, AutoModelForSequenceClassification\n",
        "!pip install datasets transformers torch evaluate nltk rouge_score\n",
        "from datasets import load_dataset\n",
        "from transformers import AutoTokenizer, AutoModelForSequenceClassification, TrainingArguments, Trainer\n",
        "import numpy as np\n",
        "import evaluate\n",
        "!pip install pyyaml h5py  # Required to save models in HDF5 format\n",
        "\n",
        "import time"
      ]
    },
    {
      "cell_type": "code",
      "execution_count": 27,
      "metadata": {
        "id": "YLGieoJQsjtW",
        "colab": {
          "base_uri": "https://localhost:8080/",
          "height": 86,
          "referenced_widgets": [
            "d27514a18678425988afb0a9af51d4dd",
            "c36f6056acf94c0ca2dbefd45430da71",
            "9c3e08c8203045538c7416a593df66cb",
            "e22efe4453444a6fa851ba37bb066590",
            "8b4e3e29649942aba4bca315cfd79d15",
            "f8f0167f656e4ca19ecb470cb38c2d1a",
            "29244102e8c946a4837e135cb7c336a0",
            "1a6f0f55c0e54087b2d5c870909bd38a",
            "ed0ba334b4a04865a53dba617a073f8a",
            "7113018b2e9040f6a6d16fdd19c010fe",
            "e5842a56ab084a4fb985f29cf9352e77"
          ]
        },
        "outputId": "b3b2dbcb-df11-41e3-86bc-b3aacd31d46c"
      },
      "outputs": [
        {
          "output_type": "display_data",
          "data": {
            "text/plain": [
              "Resolving data files:   0%|          | 0/50 [00:00<?, ?it/s]"
            ],
            "application/vnd.jupyter.widget-view+json": {
              "version_major": 2,
              "version_minor": 0,
              "model_id": "d27514a18678425988afb0a9af51d4dd"
            }
          },
          "metadata": {}
        },
        {
          "output_type": "stream",
          "name": "stdout",
          "text": [
            "isn ' t this against the first amendment ? doesn ' t the first amendment give us the right to assemble and protest ?\n"
          ]
        }
      ],
      "source": [
        "from datasets import load_dataset\n",
        "dataset = load_dataset(\"fddemarco/pushshift-reddit-comments\", streaming = True)\n",
        "it = iter(dataset['train'])\n",
        "extract_data = next(it)\n",
        "#print(extract_data)\n",
        "\n",
        "print(extract_data['body'])\n",
        "#testing if we can get a sample comment"
      ]
    },
    {
      "cell_type": "code",
      "execution_count": 28,
      "metadata": {
        "id": "VU3cwFhKxDwi"
      },
      "outputs": [],
      "source": [
        "data = {\n",
        "    'column1_name': ['text'],\n",
        "    'column2_name': ['score'],\n",
        "    'column3_name': ['labels']\n",
        "}\n",
        "\n",
        "df = pd.DataFrame(data)"
      ]
    },
    {
      "cell_type": "code",
      "source": [
        "df_pre_clean = df.info()"
      ],
      "metadata": {
        "colab": {
          "base_uri": "https://localhost:8080/"
        },
        "id": "q9gPHo2kKsd2",
        "outputId": "1336d89f-c5d6-4dbe-dc50-44ae062063c7"
      },
      "execution_count": 29,
      "outputs": [
        {
          "output_type": "stream",
          "name": "stdout",
          "text": [
            "<class 'pandas.core.frame.DataFrame'>\n",
            "RangeIndex: 1 entries, 0 to 0\n",
            "Data columns (total 3 columns):\n",
            " #   Column        Non-Null Count  Dtype \n",
            "---  ------        --------------  ----- \n",
            " 0   column1_name  1 non-null      object\n",
            " 1   column2_name  1 non-null      object\n",
            " 2   column3_name  1 non-null      object\n",
            "dtypes: object(3)\n",
            "memory usage: 152.0+ bytes\n"
          ]
        }
      ]
    },
    {
      "cell_type": "code",
      "source": [
        "start_df_time = time.time()"
      ],
      "metadata": {
        "id": "Mb12lLJ5luGG"
      },
      "execution_count": 30,
      "outputs": []
    },
    {
      "cell_type": "code",
      "execution_count": 31,
      "metadata": {
        "id": "F65fGpqgLgai",
        "colab": {
          "base_uri": "https://localhost:8080/"
        },
        "outputId": "ce835a43-ef15-4461-8263-249156da2bdf"
      },
      "outputs": [
        {
          "output_type": "stream",
          "name": "stdout",
          "text": [
            "100000\n",
            "200000\n",
            "                                                text  score     labels\n",
            "0                                              oil .     -4  AskReddit\n",
            "1  yeah nice . . . except for the fact that every...      5   politics\n",
            "2   bro , i figuratively just watched that episode .      2     gaming\n",
            "3                         this is why u can ' t vote      3   politics\n",
            "4               it ' s a wizard photograph , harry .      1        WTF\n",
            "Counter({'AskReddit': 1600, 'politics': 1600, 'gaming': 1600, 'WTF': 1600, 'pics': 1600, 'leagueoflegends': 1600, 'fffffffuuuuuuuuuuuu': 1600, 'videos': 1600, 'atheism': 1600, 'funny': 1600, 'Minecraft': 1600, 'trees': 1600, 'SteamTrade': 1600, 'nfl': 1600, 'AdviceAnimals': 1600, 'worldnews': 1600, 'starcraft': 1600, 'guns': 1600, 'SteamGameSwap': 1600, 'swtor': 1600, 'IAmA': 1600, 'skyrim': 1600, 'gonewild': 1600, 'TwoXChromosomes': 1600, 'battlefield3': 1600, 'mylittlepony': 1600, 'circlejerk': 1600, 'Music': 1600, 'Fitness': 1600, 'Games': 1600, 'movies': 1600, 'technology': 1600, 'aww': 1600, 'todayilearned': 1600, 'tf2trade': 1527, 'Android': 1524, 'soccer': 1506, 'sex': 1452, 'askscience': 1430, 'Christianity': 1421, 'tf2': 1419, 'loseit': 1410, 'buildapc': 1321, 'nba': 1206, 'Libertarian': 1159, 'malefashionadvice': 1046, 'explainlikeimfive': 1028, 'ShitRedditSays': 992, 'gameswap': 979, 'pokemon': 965, 'teenagers': 950, 'amiugly': 940, 'canada': 910, 'MensRights': 900, 'books': 875, 'ronpaul': 864, 'science': 853, 'wow': 838, 'playitforward': 836, 'MLPLounge': 832, 'occupywallstreet': 832, 'anime': 830, 'magicTCG': 814, 'relationships': 800, 'gifs': 800, 'Drugs': 780, 'self': 759, 'CFB': 745, 'doctorwho': 743, 'GoneWildPlus': 717, 'DotA2': 715, 'mw3': 701, 'programming': 696, 'TrueReddit': 673, 'keto': 666, 'GetMotivated': 665, 'ForeverAlone': 659, 'conspiracy': 649, 'hockey': 628, 'zelda': 604, 'gaymers': 600, 'Guitar': 597, 'techsupport': 596, 'MMA': 595, 'harrypotter': 593, 'darksouls': 588, 'DebateReligion': 579, 'motorcycles': 575, 'Frugal': 566, 'fitnesscirclejerk': 558, 'unitedkingdom': 531, 'food': 529, 'relationship_advice': 529, 'news': 527, 'lgbt': 514, 'comicbooks': 489, 'offbeat': 478, 'nsfw': 476, 'bicycling': 472, 'runescape': 458, 'DoesAnybodyElse': 455, 'Cooking': 454, 'SquaredCircle': 453, 'firstworldproblems': 451, 'running': 447, 'SRSDiscussion': 443, 'Steam': 434, 'islam': 426, 'iphone': 421, 'Metal': 418, 'photography': 410, 'eagles': 408, 'LadyBoners': 390, 'PoliticalDiscussion': 387, 'hiphopheads': 382, 'OkCupid': 382, 'PS3': 377, 'WeAreTheMusicMakers': 365, 'chicago': 355, 'apple': 355, 'linux': 351, 'drunk': 349, 'community': 349, 'NoFap': 346, 'RandomKindness': 343, 'Eve': 343, 'Autos': 343, 'SuicideWatch': 340, 'sports': 340, 'geek': 337, 'RandomActsOfGaming': 337, 'homestuck': 330, 'HardcoreSMP': 330, 'AmISexy': 327, 'television': 325, 'startrek': 320, 'r4r': 318, 'seduction': 317, 'tipofmytongue': 314, 'LifeProTips': 314, 'vinyl': 313, 'india': 313, 'DIY': 312, 'christmashunt': 309, '3DS': 308, 'rpg': 304, 'Feminism': 302, 'DebateaCommunist': 296, 'Anarchism': 292, 'wicked_edge': 291, 'philosophy': 290, 'Terraria': 287, 'LosAngeles': 285, 'australia': 284, 'blog': 281, 'SOPA': 278, 'tall': 278, 'gameofthrones': 276, 'AskWomen': 275, 'snowboarding': 274, '4chan': 271, 'StarWars': 271, 'casualiama': 270, 'Economics': 265, 'Homebrewing': 264, 'TheoryOfReddit': 264, 'MakeupAddiction': 263, 'stopsmoking': 263, 'writing': 260, 'Anarcho_Capitalism': 260, 'cigars': 258, 'baseball': 255, 'nosleep': 255, 'RedditLaqueristas': 254, 'nyc': 253, 'Random_Acts_Of_Pizza': 252, 'Health': 252, 'DebateAChristian': 249, 'Art': 246, 'boardgames': 245, '49ers': 244, 'depression': 242, 'Portland': 241, 'comics': 241, 'freebies': 239, 'vancouver': 236, 'bestof': 235, 'HeroesofNewerth': 233, 'travel': 232, 'fantasyfootball': 231, 'learnprogramming': 230, 'math': 228, 'creepy': 223, 'cars': 223, 'Austin': 221, 'stopdrinking': 220, 'Parenting': 219, 'exmormon': 219, 'Military': 219, 'adventuretime': 219, 'beer': 217, 'BabyBumps': 215, 'Seattle': 211, 'battlestations': 207, 'webdev': 207, 'toronto': 206, 'CHIBears': 205, 'Jokes': 204, 'skeptic': 203, 'personalfinance': 203, 'SRSBusiness': 202, 'business': 200, 'treecomics': 199, 'mylittleandysonic1': 198, 'gamedev': 197, 'ladybonersgw': 197, 'Playdate': 197, 'audiophile': 195, 'steamtrades': 192, 'web_design': 191, 'actuallesbians': 191, 'Warhammer': 190, 'worldpolitics': 190, 'OneY': 185, 'FoodPorn': 182, 'ps3bf3': 181, 'ireland': 181, 'DebateAnAtheist': 180, 'applehelp': 178, 'IWantToLearn': 178, 'space': 177, 'xbox360': 177, 'tattoos': 173, 'cats': 171, 'OperationPullRyan': 170, 'Bad_Cop_No_Donut': 170, 'Psychonaut': 170, 'Paleo': 168, 'socialism': 168, 'Israel': 167, 'gamecollecting': 165, 'Gunners': 165, 'Conservative': 164, 'CollegeBasketball': 163, 'Rateme': 161, 'EarthPorn': 161, 'japan': 161, 'breakingbad': 160, 'Diablo': 160, 'GameDeals': 160, 'dubstep': 159, 'shittyadvice': 159, 'gamingpc': 158, 'aviation': 158, 'YouShouldKnow': 158, 'Scotch': 157, 'sysadmin': 157, 'AnythingGoesNews': 156, 'GirlGamers': 153, 'photocritique': 153, 'truegaming': 150, 'masseffect': 149, 'MapPorn': 149, 'itookapicture': 148, 'electronicmusic': 147, 'dwarffortress': 146, 'talesfromtechsupport': 145, 'skateboarding': 145, 'mflb': 144, 'gadgets': 143, 'cripplingalcoholism': 143, 'dogs': 142, 'kpop': 142, 'jailbreak': 140, 'Fantasy': 140, 'scifi': 139, 'longboarding': 139, 'steamswap': 137, 'discgolf': 136, 'environment': 136, 'Design': 134, 'weightroom': 134, 'Sherlock': 134, 'Pets': 133, 'mexico': 133, 'Watches': 133, 'asoiaf': 133, 'dating_advice': 133, 'Foodforthought': 133, 'asktransgender': 132, 'newzealand': 132, 'Atlanta': 131, 'Team_Awesome': 128, 'GalaxyNexus': 128, 'hardware': 127, 'Bass': 127, 'airsoft': 126, 'AnythingGoesPics': 126, 'shittyaskscience': 125, 'vinylscratch': 125, 'Michigan': 124, 'investing': 123, 'mcservers': 123, 'europe': 122, 'Coffee': 119, 'EnoughPaulSpam': 119, 'Fallout': 118, 'wallpapers': 118, 'Romania': 118, 'gentlemanboners': 118, 'kindle': 118, 'Assistance': 117, 'progressive': 116, 'firstimpression': 116, 'GreenBayPackers': 116, 'ragenovels': 115, 'RealGirls': 115, 'Aquariums': 114, 'engineering': 114, 'houston': 113, 'ipad': 112, 'exmuslim': 112, 'knives': 111, 'boston': 111, 'pokemontrades': 111, 'melbourne': 110, 'aaaaaatheismmmmmmmmmm': 110, 'yugioh': 110, 'Filmmakers': 110, 'BreakUps': 109, 'OnePiece': 107, 'thick': 106, 'entertainment': 106, 'secretsanta': 105, 'LiverpoolFC': 104, 'poker': 104, 'humor': 103, 'horror': 102, 'sweden': 101, 'HistoryPorn': 101, 'Denver': 101, 'trackers': 100, 'ProjectEnrichment': 100, 'DJs': 99, 'edmproduction': 98, 'picrequests': 98, 'ukpolitics': 98, 'beerporn': 97, 'femmit': 97, 'economy': 97, 'history': 96, 'beatles': 95, 'promos': 95, 'arresteddevelopment': 94, 'webcomics': 93, 'RUGC_Midwest': 93, 'Buddhism': 92, 'cordcutters': 92, 'DepthHub': 92, 'BTFC': 92, 'radiohead': 91, 'drums': 91, 'classicalmusic': 91, 'london': 90, 'PHP': 90, 'confession': 90, 'UFOs': 89, 'Dexter': 89, 'tolkienfans': 89, 'headphones': 89, 'darknetplan': 88, 'EngineeringStudents': 88, 'zombies': 88, 'sandiego': 87, 'linguistics': 87, 'dungeondefenders': 87, 'halo': 86, 'Documentaries': 86, 'climbing': 85, 'biology': 85, 'Favors': 85, 'femalefashionadvice': 84, 'BDSMcommunity': 84, 'Physics': 84, 'MvC3': 84, 'AskFeminists': 84, 'literature': 83, 'Marijuana': 83, 'patientgamers': 83, 'leafs': 82, 'thewalkingdead': 82, 'SubredditDrama': 82, 'bjj': 81, 'wikipedia': 81, 'AndroidQuestions': 80, 'StonerEngineering': 80, 'Cartalk': 80, 'MTB': 80, 'HIMYM': 80, 'listentothis': 80, 'Boobies': 80, 'weeklyreddit': 80, 'fifthworldproblems': 79, 'sanfrancisco': 79, 'nintendo': 79, 'dvdcollection': 79, 'UIUC': 78, 'NYGiants': 78, 'FIFA12': 78, 'dbz': 78, 'offmychest': 77, 'Poetry': 77, 'IndieGaming': 77, 'newjersey': 76, 'beermoney': 76, 'twincitiessocial': 76, 'batman': 76, 'CityPorn': 76, 'androiddev': 76, 'skiing': 76, 'DesktopDetective': 75, 'assassinscreed': 75, 'beardjerk': 75, 'TheSimpsons': 74, 'Tribes': 74, 'ClopClop': 74, 'opiates': 73, 'Python': 73, 'woahdude': 73, 'gardening': 73, 'bisexual': 72, 'knitting': 72, 'steamcoupons': 72, 'TopGear': 72, 'philadelphia': 72, 'NetflixBestOf': 72, 'RandomActsOfPizza': 72, 'pcgaming': 72, 'Adelaide': 72, 'summonerschool': 71, 'tea': 71, 'woodworking': 71, 'arduino': 71, 'truetf2': 71, 'hardwareswap': 70, 'LucidDreaming': 70, 'moderatepolitics': 70, 'NSFW_GIF': 70, 'Ubuntu': 70, 'gamernews': 70, 'DAE': 70, 'fantasybball': 69, 'TrollXChromosomes': 69, 'formula1': 69, 'singapore': 69, 'manga': 68, 'lego': 68, 'amateurradio': 68, 'StandUpComedy': 68, 'Entrepreneur': 67, 'religion': 67, 'ifyoulikeblank': 67, 'daddit': 67, 'Jazz': 67, 'windows': 66, 'AskEngineers': 66, 'Catacombs': 65, 'nyjets': 65, '24hoursupport': 65, 'futurama': 65, 'mac': 65, 'GameSociety': 65, 'whatsthisbug': 64, 'punk': 64, 'wallpaper': 63, 'collapse': 63, 'bf3pc': 63, 'GaymersGoneMild': 63, 'montreal': 63, 'EDC': 63, 'GodlessWomen': 62, 'FixedGearBicycle': 62, 'kansascity': 62, '52book': 62, 'Maplestory': 61, 'ottawa': 61, 'AbandonedPorn': 61, 'bodybuilding': 61, 'washingtondc': 60, 'SuggestALaptop': 60, 'haskell': 60, 'Rabbits': 60, 'Anthropology': 60, 'C25K': 60, 'slashdiablo': 59, 'help': 59, 'Bitcoin': 59, 'Winnipeg': 59, 'Stargate': 59, 'MMFB': 58, 'BMW': 58, 'crochet': 58, 'gaymersgonewild': 58, 'psychology': 57, 'bindingofisaac': 57, 'classicrage': 57, 'Rochester': 57, 'obama': 57, 'coys': 57, 'flying': 57, 'phish': 56, 'sydney': 56, 'pittsburgh': 56, 'Naruto': 56, 'korea': 56, 'WorldofTanks': 56, 'Dallas': 56, 'SRSGaming': 56, 'vegan': 55, 'AmIASexyQueer': 55, 'transgender': 55, 'Hawaii': 55, 'networking': 55, 'ravens': 55, 'recipes': 54, 'typography': 54, 'google': 54, 'grammar': 54, 'BuyItForLife': 54, 'ems': 54, 'Patriots': 54, 'Calgary': 53, 'Enhancement': 53, 'torrents': 53, 'LeagueofLegendsMeta': 53, 'Philippines': 53, 'furry': 53, 'webdesign': 53, 'introvert': 52, 'MLS': 52, 'detroitlions': 52, 'IWantOut': 51, 'LearnJapanese': 50, 'brisbane': 50, 'orangecounty': 50, 'bayarea': 50, 'China': 50, 'germany': 50, 'disney': 49, 'cosplay': 49, 'shutupandtakemymoney': 49, 'firefly': 49, 'Meditation': 49, 'chess': 49, 'CanadaPolitics': 49, 'MLPdrawingschool': 48, 'BostonBruins': 48, 'wine': 48, 'MachinePorn': 48, 'GearsOfWar': 48, 'amishsmp': 48, 'Republican': 48, 'Mommit': 48, 'AskHistorians': 48, 'CampingandHiking': 47, 'nostalgia': 47, 'spacedicks': 47, 'netsec': 47, 'aves': 47, 'spiders': 47, 'answers': 47, 'buffalobills': 47, 'Texans': 47, 'law': 46, 'raleigh': 46, 'gif': 46, 'musictheory': 46, 'learnmath': 46, 'baltimore': 46, 'MeetLGBT': 46, 'Scotland': 46, 'nuzlocke': 46, 'somethingimade': 46, 'rant': 46, 'oaklandraiders': 46, 'Tgirls': 45, 'facepalm': 45, 'LawSchool': 45, 'treesgonewild': 44, 'HumanPorn': 44, 'Paranormal': 44, 'ILiveIn': 44, 'AncapMinecraft': 44, 'REDDITORSINRECOVERY': 44, 'Anxiety': 44, 'reactiongifs': 43, 'saplings': 43, 'WeAreTheFilmMakers': 43, 'printSF': 43, 'energy': 43, 'CrohnsDisease': 43, 'jobs': 43, 'chelseafc': 43, 'herpetology': 43, 'misc': 42, 'nursing': 42, 'languagelearning': 42, 'SaltLakeCity': 42, 'chuchofTIA': 42, 'Portal': 41, 'randomsexiness': 41, 'JRPG': 41, 'againstmensrights': 41, 'electronics': 41, 'progmetal': 41, 'malehairadvice': 41, 'Idliketobeatree': 40, 'AskMen': 40, 'diabetes': 40, 'carporn': 40, 'poppunkers': 40, 'redditbundle': 40, 'pharmacy': 40, 'spaceporn': 40, 'occult': 40, 'ass': 40, 'Chargers': 40, 'Baking': 39, 'tf2items': 39, 'DnB': 39, 'Judaism': 39, 'leangains': 39, 'yoga': 39, 'crafts': 39, 'AMA': 39, 'cogsci': 39, 'realdubstep': 38, 'rit': 38, 'gainit': 38, 'happy': 38, 'SkyrimHelp': 38, 'alcohol': 38, 'tampa': 38, 'cowboys': 38, 'electronic_cigarette': 38, 'NewToTF2': 38, 'rpg_gamers': 38, 'gaaaaaaayyyyyyyyyyyy': 38, 'frugalmalefashion': 38, 'Redskins': 38, 'badcompany2': 38, 'asktrees': 38, 'beards': 37, 'electrohouse': 37, 'SF4': 37, 'howardstern': 37, 'ukulele': 37, 'perth': 37, 'EA_NHL': 37, 'crossdressing': 37, 'ProjectReddit': 37, 'wp7': 37, 'Jaguars': 37, 'askseddit': 36, 'catpictures': 36, 'surfing': 36, 'linux4noobs': 36, 'VirginiaTech': 36, 'piano': 36, 'forza': 36, 'CCW': 36, 'Survival': 36, 'exjw': 36, 'pornvids': 36, 'berkeley': 35, 'OFWGKTA': 35, 'wisconsin': 35, 'InsightfulQuestions': 35, 'penis': 35, 'portugal': 35, 'TheFacebookDelusion': 35, 'FapDeciders': 35, 'Ijustwatched': 34, 'education': 34, 'madisonwi': 34, 'trance': 34, 'gaybears': 34, 'calvinandhobbes': 34, 'feminisms': 34, 'stencils': 34, 'meetup': 34, 'juggling': 34, 'ask': 34, 'computers': 34, 'glutenfree': 33, 'fashion': 33, 'microgrowery': 33, 'sanantonio': 33, 'glassheads': 33, 'SketchDaily': 33, 'martialarts': 33, 'Birmingham': 33, 'AskAcademia': 33, 'ECE': 33, 'entgaming': 33, 'IASIP': 33, 'overclocking': 33, 'Palestine': 33, 'doodleordie': 32, 'ideasfortheadmins': 32, 'AlienBlue': 32, 'PhilosophyofScience': 32, 'argentina': 32, 'alternativeart': 32, 'Cleveland': 32, 'LGBTGoneWild': 32, 'WebGames': 32, 'anonymous': 32, 'photoclass2012a': 32, 'PrettyGirls': 32, 'budgetfood': 32, 'nook': 32, 'nashville': 31, 'vegas': 31, 'indianapolis': 31, 'Liberal': 31, 'Guildwars2': 31, 'NewOrleans': 31, 'Celebs': 31, 'ToolBand': 31, 'ForeverAloneDating': 31, 'DetroitRedWings': 31, 'mcpublic': 31, 'gonenatural': 31, 'taoism': 31, 'asmr': 31, 'SanJose': 31, 'androidapps': 31, 'eyes': 31, 'AirForce': 31, 'HongKong': 31, 'malaysia': 31, 'hiphop': 30, 'UTAustin': 30, 'Graffiti': 30, 'QuotesPorn': 30, 'Hunting': 30, 'skrillex': 30, 'starcraft_strategy': 30, 'TrueBlood': 30, 'PandR': 30, 'steelers': 30, 'freemasonry': 30, 'stephenking': 30, 'Sacramento': 29, 'cableporn': 29, 'Jeep': 29, 'hookah': 29, 'rangers': 29, 'transgamers': 29, 'netflix': 29, 'Hiphopcirclejerk': 29, 'totalwar': 29, 'Boxing': 29, 'sad': 29, 'Tokyo': 29, 'Astronomy': 29, 'milf': 29, 'RATS': 29, 'askphilosophy': 29, 'MilitaryPorn': 29, 'PipeTobacco': 29, 'cpp': 29, 'harvestmoon': 28, 'sewing': 28, 'French': 28, 'asustransformer': 28, 'picturesofiansleeping': 28, 'RealEstate': 28, 'Morrowind': 28, 'chrome': 28, 'roguelikes': 28, 'bengals': 28, 'needadvice': 28, 'bodymods': 28, 'malegrooming': 28, 'Fishing': 28, 'mylittlebannertest': 28, 'wafflebot': 28, 'photoshop': 27, 'Flyers': 27, 'AnimalPorn': 27, 'sabres': 27, 'MinecraftInventions': 27, 'longhairedredditors': 27, 'PostHardcore': 27, 'corgi': 27, 'TheLastAirbender': 27, 'BritishTV': 27, 'Pieces': 27, 'AnythingGoesUltimate': 27, 'buffy': 27, 'NolibsWatch': 27, 'BorderCollie': 26, 'ucf': 26, 'redditrepublic': 26, 'skyrimmods': 26, 'chemistry': 26, 'GEB': 26, 'FinalFantasy': 26, 'rutgers': 26, 'gamemusic': 26, 'androidthemes': 26, 'Swimming': 26, 'mylittlefanfic': 26, 'uktrees': 26, 'moderatorjerk': 26, 'booksuggestions': 26, 'TreesFortress2': 25, 'DnD': 25, 'ADD': 25, 'Borderlands': 25, 'de': 25, 'polyamory': 25, 'xbox': 25, 'cannabis': 25, 'BlueJackets': 25, 'lookatmydog': 25, 'redditempire': 25, 'HalfLife': 25, 'civ': 25, 'archlinux': 25, 'DenverBroncos': 25, 'fredericksburg': 25, 'screenshots': 25, 'GoogleYourUsername': 25, 'subaru': 24, 'craftit': 24, 'Korean': 24, 'Iceland': 24, 'minnesota': 24, 'Demotivational': 24, 'translator': 24, 'snackexchange': 24, 'ents': 24, 'Archery': 24, 'RedditThroughHistory': 24, 'hacking': 24, 'PostCollapse': 24, 'medicine': 24, 'pitbulls': 24, 'Lovecraft': 24, 'breastfeeding': 24, 'footballmanagergames': 23, 'Catholicism': 23, 'cscareerquestions': 23, 'bigbangtheory': 23, 'GradSchool': 23, 'architecture': 23, 'paintball': 23, 'italy': 23, 'raspberry_pi': 23, 'modclub': 23, 'financialindependence': 23, 'startups': 23, 'GrandTheftAutoV': 23, 'Columbus': 23, 'ShittyPoetry': 23, 'sportsbook': 23, 'MotoLA': 23, 'csshelp': 23, 'rocksmith': 23, 'thesims': 23, 'Amsterdam': 23, 'Lubbock': 22, 'Ohio': 22, 'gatech': 22, 'software': 22, 'SEO': 22, 'saudiarabia': 22, 'computing': 22, 'EntFlix': 22, 'MDMA': 22, 'RoomPorn': 22, 'chiptunes': 22, 'compsci': 22, 'Edmonton': 22, 'smashbros': 22, 'AdrenalinePorn': 22, 'PropagandaPosters': 22, 'bakedart': 22, 'InteriorDesign': 22, 'nsfw_gifs': 22, 'appletv': 22, 'Ska': 22, 'holocaust': 22, 'MovieSuggestions': 22, 'halifax': 22, 'Metalcore': 22, 'bdsm': 22, 'bleach': 21, 'VictoriaBC': 21, 'Charlotte': 21, 'bestofthefray': 21, 'mycology': 21, 'forhire': 21, 'cumsluts': 21, 'lakers': 21, 'Reformed': 21, 'fffffffuuuuuuuuuuuud': 21, 'oooooooyyyyyyyyyyyy': 21, 'voluptuous': 21, 'design_critiques': 21, 'BarefootRunning': 21, 'nova': 21, 'ginger': 21, 'realasians': 21, 'WikiLeaks': 21, 'worstof': 21, 'guitarlessons': 21, 'Wordpress': 21, 'ragecomics': 21, 'Magicdeckbuilding': 21, 'AlbumArtPorn': 21, 'toosoon': 21, 'HomeworkHelp': 21, 'Amateur': 21, 'gratefuldead': 20, 'audioengineering': 20, 'redditrequest': 20, 'TheRabbitHole': 20, 'Punny': 20, 'birthcontrol': 20, 'neopets': 20, 'Swapnote': 20, 'BipolarReddit': 20, 'geocaching': 20, 'sailing': 20, 'mmafantasyleague': 20, 'girlsinyogapants': 20, 'Habs': 20, 'WoT': 20, 'radiocontrol': 20, 'Denmark': 20, 'whatisthisthing': 20, 'reloading': 20, 'VillagePorn': 20, 'texas': 20, 'newreddits': 20, 'gay': 20, 'japanlife': 20, 'macgaming': 19, 'LinuxActionShow': 19, 'ar15': 19, 'SNSD': 19, 'WingChun': 19, 'GoneWildCD': 19, 'wii': 19, 'meltyblood': 19, 'xkcd': 19, 'cincinnati': 19, 'FancyFollicles': 19, 'evedreddit': 19, 'MonsterHunter': 19, 'Bacon': 19, 'canucks': 19, 'DeadBedrooms': 19, 'cheatatmathhomework': 19, 'lost': 19, 'Themepark': 19, 'baconreader': 19, 'AlisonBrie': 19, 'Ultralight': 19, 'pkmntcg': 19, 'TF2files': 19, 'TrueFilm': 19, 'leaves': 19, 'minnesotavikings': 19, 'chuck': 18, 'rva': 18, 'worldbuilding': 18, 'mlpmature': 18, 'orlando': 18, 'Overgrowth': 18, 'ineedafavor': 18, 'Slender_Man': 18, '52weeksofcooking': 18, 'penpals': 18, 'Chattanooga': 18, 'Pensacola': 18, 'chicagobulls': 18, 'BostonSocialClub': 18, 'StLouis': 18, 'tipofmypenis': 18, 'RobZerban': 18, 'cocktails': 18, 'rush': 18, 'boulder': 18, 'aberoth': 18, 'truecreepy': 18, 'nature': 18, 'survivorzero': 18, 'Petloss': 18, 'coestar': 18, 'fnv': 18, 'AskPhotography': 18, 'IBD': 18, 'GuildWars': 18, 'species': 18, 'mashups': 18, 'france': 18, 'oblivion': 18, 'miamidolphins': 17, 'Gore': 17, 'Brooklyn': 17, 'treemusic': 17, 'futurebeats': 17, 'Silverbugs': 17, 'IDAP': 17, 'day9': 17, 'bicycletouring': 17, 'Cyberpunk': 17, 'DunderMifflin': 17, 'Saints': 17, 'ruby': 17, 'fossworldproblems': 17, 'crossfit': 17, 'russia': 17, 'fantasywriters': 17, 'Detroit': 17, 'HairyPussy': 17, 'MST3K': 17, 'kindlefire': 17, 'phoenix': 17, 'StarcraftFeedback': 17, 'geology': 17, 'LongDistance': 17, 'SteamGifts': 17, 'Albuquerque': 17, '3dsFCswap': 17, 'Throwers': 17, 'mangonewild': 17, 'finance': 17, 'TaylorSwift': 17, 'Parkour': 17, 'whatsthisplant': 17, 'CallOfDuty': 17, 'uwaterloo': 17, 'PornOverlords': 17, 'Objectivism': 16, 'resumes': 16, 'dykesgonewild': 16, 'LARP': 16, 'Theatre': 16, 'Quebec': 16, 'truenerds': 16, 'BSG': 16, 'lgbtaww': 16, 'P90X': 16, 'Inglip': 16, 'ElPaso': 16, 'AnimeSketch': 16, 'relationshipadvice': 16, 'powerrangers': 16, 'drawing': 16, 'discworld': 16, 'Omaha': 16, 'OSU': 16, 'ModdingMC': 16, 'Hungergames': 16, 'Norway': 16, 'KitchenConfidential': 16, 'Fairbanks': 16, 'InfrastructurePorn': 16, 'Industrialporn': 16, 'MyLittleLivestream': 16, 'airsoftmarket': 16, 'chicagotrees': 16, 'Blowjobs': 16, 'hugeboobs': 15, 'LSD': 15, 'slackerrecipes': 15, 'nsfw_wtf': 15, 'CoffeeWithJesus': 15, 'LegalTeens': 15, 'hardstyle': 15, 'ows': 15, '30daysit': 15, 'ChronicPain': 15, 'austrian_economics': 15, 'gamingsuggestions': 15, 'custommagic': 15, 'ripcity': 15, 'RunForIt': 15, 'linux_gaming': 15, 'dominion': 15, 'bestoftribunal': 15, 'aspergers': 15, 'WritersGroup': 15, 'oklahoma': 15, 'windowshots': 15, 'Dogtraining': 15, 'Permaculture': 15, 'ImaginaryMonsters': 14, 'synthesizers': 14, 'nugs': 14, 'BBQ': 14, 'mylittlefortress': 14, 'vertical': 14, 'Hallpass': 14, 'northernireland': 14, 'Fish': 14, 'asheville': 14, 'steamgiveaway': 14, 'tldrfilms': 14, 'NYKnicks': 14, 'climateskeptics': 14, 'yankees': 14, 'rugbyunion': 14, 'rule34': 14, 'Browns': 14, 'whiskey': 14, 'Weird': 14, 'hentai': 14, 'Ostriches': 14, 'Albany': 14, 'hawks': 14, 'shorthairedhotties': 14, 'linuxquestions': 14, 'Dredmor': 14, 'Nootropics': 14, 'Barca': 14, 'rcw': 14, 'acting': 14, 'GenderEgalitarian': 14, 'minitale': 14, 'redditoroftheday': 13, 'mylittlehuman': 13, 'malelifestyle': 13, 'magicka': 13, 'londonontario': 13, 'EmmaWatson': 13, 'HIFW': 13, 'foreveraloneteens': 13, 'mylittleWTF': 13, 'ProjectAwesome': 13, 'California': 13, 'classicalguitar': 13, 'Frisson': 13, 'MLPvectors': 13, 'entwives': 13, 'Pareidolia': 13, 'ihaveissues': 13, 'quotes': 13, 'UofT': 13, 'bigdickproblems': 13, 'MCFC': 13, 'SonicTheHedgehog': 13, 'UCSantaBarbara': 13, 'AskCulinary': 13, 'troubledteens': 13, 'howto': 13, 'EnterShikari': 13, 'buildapcsales': 13, 'NoLongerAlone': 13, 'Cubers': 13, 'Vocaloid': 13, 'lolcats': 13, 'StPetersburgFL': 13, 'tellusofyourgods': 13, 'Bondage': 13, 'DOTA': 13, 'operabrowser': 13, 'experimentalmusic': 13, 'badMovies': 13, 'hometheater': 12, 'askdrugs': 12, 'SpideyMeme': 12, 'childfree': 12, 'Colombia': 12, 'TheWire': 12, 'lotr': 12, 'misfitstv': 12, 'panthers': 12, 'Beatmatch': 12, 'madmen': 12, 'Cricket': 12, 'lithuania': 12, 'spicy': 12, 'foundfootage': 12, 'Connecticut': 12, 'X3TC': 12, 'EmoScreamo': 12, 'HIPSTERGURLZ': 12, 'psych': 12, 'yiff': 12, 'TechNewsToday': 12, 'progresspics': 12, 'predaddit': 12, 'ucla': 12, 'ArcherFX': 12, 'Tucson': 12, 'NewParents': 12, 'Dreams': 12, 'touchpad': 12, 'Needafriend': 12, 'taiwan': 12, 'Rift': 12, 'Spokane': 12, 'BrownU': 12, 'redditguild': 12, 'Reno': 12, 'TEFL': 12, 'OperationGrabAss': 12, 'FantasyPL': 12, 'ThisIsOurMusic': 12, 'subredditoftheday': 12, 'medical': 12, 'Finland': 12, 'SteamXmass2011Trading': 12, 'Screenwriting': 12, 'TheHobbit': 12, 'tattoo': 12, 'UniversityofReddit': 12, 'boltedontits': 12, 'iran': 12, 'TRADE': 12, 'omegle': 12, 'Anticonsumption': 12, 'Zune': 11, 'eu3': 11, 'Volkswagen': 11, 'Awww': 11, 'southpark': 11, 'saskatoon': 11, 'Urbandead': 11, 'FolkPunk': 11, 'fossdroid': 11, 'Songwriters': 11, 'ITcrowd': 11, 'Nobodylikesonions': 11, 'MinecraftCirclejerk': 11, 'ferrets': 11, 'MinecraftWars': 11, 'TeenGamers': 11, 'dating': 11, 'AsianHotties': 11, 'fantasybaseball': 11, 'prowrestling': 11, 'college': 11, 'BarCraft': 11, 'PerfectTiming': 11, 'enthouse': 11, 'CrappyDesign': 11, 'futurepopmusic': 11, 'homestead': 11, 'metacanada': 11, 'rap': 11, 'iconia': 11, 'Edinburgh': 11, 'batonrouge': 11, 'Gunpla': 11, 'video': 11, 'ancient': 11, 'vermont': 11, '2012Elections': 11, 'AtheistHavens': 11, 'simpleliving': 11, 'Sonsofanarchy': 11, 'sc2partners': 11, 'birdpics': 11, 'esports': 11, 'NDAA': 11, 'starcraft2': 11, 'animation': 11, 'dirtypenpals': 11, 'GT5': 11, 'osx': 11, 'newhaven': 11, 'weather': 11, 'lebowski': 11, 'meme': 11, 'Seahawks': 11, 'gamemechanics': 11, 'NKU': 11, 'dickoftheyear': 11, 'Pee': 11, 'progressive_islam': 11, 'caps': 11, 'shanghai': 11, 'triathlon': 11, 'postprocessing': 11, 'COsnow': 11, 'Scavenger': 11, 'NewYorkMets': 11, 'GetOutOfBed': 11, 'Makeup': 10, 'chinchilla': 10, 'FortCollins': 10, 'wedding': 10, 'minicraft': 10, 'comic_crits': 10, 'facebook': 10, 'Torontoevents': 10, 'starcraft2_class': 10, 'AskElectronics': 10, 'makinghiphop': 10, 'MarathonMan': 10, 'ChineseLanguage': 10, 'listentous': 10, 'mylittleonions': 10, 'TWN': 10, 'minecraftseeds': 10, 'postapocalyptic': 10, 'EnoughObamaSpam': 10, 'javascript': 10, 'bookshelf': 10, 'relationship_tips': 10, 'MyLittleSquidward': 10, 'AcademicPsychology': 10, 'Firefighting': 10, 'germanshepherds': 10, 'Reprap': 10, 'IndianaUniversity': 10, 'RepublicOfNews': 10, 'bikewrench': 10, 'Temple': 10, 'Thailand': 10, 'birdswitharms': 10, 'coins': 10, 'arizona': 10, 'democrats': 10, 'golf': 10, 'SkyPorn': 10, 'AskSocialScience': 10, 'highschool': 10, 'DontPanic': 10, 'cavestory': 10, 'letsplay': 10, 'transformers': 10, 'baylor': 10, 'ftm': 10, 'RDT3': 10, 'ABDL': 10, 'BotanicalPorn': 10, 'minecraftcontests': 10, 'quiteinteresting': 10, 'farscape': 10, 'indierock': 10, 'redheads': 10, 'dcuonline': 10, 'unicycling': 10, 'LetsTalkMusic': 10, 'rokugan': 10, 'modhelp': 10, 'astrology': 10, 'archiporn': 10, 'Gintama': 10, 'musicians': 10, 'zen': 10, 'standrews': 10, 'euguild': 10, 'heinlein': 10, 'daylightemotes': 10, 'pinkfloyd': 9, 'wtfart': 9, 'violinist': 9, 'touhou': 9, 'triangle': 9, 'MK7RC': 9, 'ggggg': 9, 'dogpictures': 9, 'Complextro': 9, 'rocketry': 9, 'Boxer': 9, 'mylittledaww': 9, 'StAugustine': 9, 'Boise': 9, 'privacy': 9, 'skylanders': 9, 'xxfitness': 9, 'DealsReddit': 9, 'feet': 9, 'conspiratard': 9, 'AnarchistProblems': 9, 'columbia': 9, 'dirtysmall': 9, 'treepunchers': 9, 'minimalism': 9, 'Tacoma': 9, 'Supplements': 9, 'legaladvice': 9, 'filmmaking': 9, 'trapmuzik': 9, 'pakistan': 9, 'RandomActsOfChristmas': 9, 'athiesm': 9, 'Transmogrification': 9, 'statistics': 9, 'l4d2': 9, '1red1bluekick2': 9, 'socialanxiety': 9, 'Serendipity': 9, 'Magic': 9, 'Virginia': 9, 'wde': 9, 'tennis': 9, 'Cornell': 9, 'Denton': 9, 'nhl': 9, 'Equality': 9, 'KingOfTheHill': 9, 'socialmedia': 9, 'PicsOfDeadKids': 9, 'learnart': 9, 'AmericanJewishPower': 9, 'Rowing': 9, 'CarAV': 9, 'Deepconnection': 9, 'gonewildstories': 9, 'TOUHOUMUSIC': 9, 'oprCorps': 9, 'cfs': 9, 'lfg': 9, 'RepublicOfReddit': 9, 'Pictures': 9, 'ColoradoAvalanche': 9, 'shittingadvice': 9, 'Mustang': 9, 'Techno': 9, 'communism': 9, 'ChicoCA': 9, 'Biochemistry': 9, 'Sneakers': 9, 'hebrew': 9, 'Loans': 9, 'flashlight': 8, 'chile': 8, 'fffffffuuuuuuuuuuuuuu': 8, 'metalgearsolid': 8, 'actuary': 8, 'lanparty': 8, 'hardbodies': 8, 'androgyny': 8, 'northkorea': 8, 'RedditToTheFuture': 8, 'BF360CLAN': 8, 'gleany': 8, 'firefox': 8, 'happygirls': 8, 'Brazil': 8, 'productivity': 8, 'boobs': 8, 'OccupyMontrealAG': 8, 'needamod': 8, 'tumblr': 8, 'mississauga': 8, 'QuakeLive': 8, 'flightsim': 8, 'saiga': 8, 'ontario': 8, 'ScenesFromAHat': 8, 'futuregarage': 8, 'auto': 8, 'FreeKarma': 8, 'FortWorth': 8, 'AdviceAtheists': 8, 'psytrance': 8, 'intj': 8, 'sharedota2': 8, 'incest': 8, 'bookclub': 8, 'KansasCityChiefs': 8, 'NotSafeForNature': 8, 'PoliticalHumor': 8, 'Charleston': 8, 'lovegaymale': 8, 'RedditBrigade': 8, 'blender': 8, 'USMC': 8, 'microsoft': 8, 'videography': 8, 'confessions': 8, 'KingdomHearts': 8, 'TheDailyMuslimRage': 8, 'stonerrock': 8, 'tf2eastcoast': 8, 'doppelbangher': 8, 'EndlessWar': 8, 'Forthewolfx': 8, 'urbanexploration': 8, 'lexington': 8, 'spotify': 8, 'SkyDiving': 8, 'judo': 8, 'metalmusicians': 8, 'Bozeman': 8, 'canberra': 8, 'java': 8, 'youtube': 8, 'hackintosh': 8, 'RUGC_Europe': 8, 'abletonlive': 8, 'GaryJohnson': 8, 'metametacirclejerk': 8, 'BrownBares': 8, 'moped': 8, 'NYCapartments': 8, 'nsfwoutfits': 8, 'jwproblems': 8, 'DeepSpaceNine': 8, 'arma': 8, 'HackBloc': 8, 'Pokemoncollege': 8, 'scooters': 8, 'Bowling': 8, 'Colts': 8, 'spiral_knights': 8, 'Reading_Berkshire': 8, 'providence': 8, 'UBreddit': 8, 'FYNNY': 8, 'nasa': 8, 'washu': 7, 'wrestling': 7, 'unt': 7, 'karengillan': 7, 'toycameras': 7, 'lgbtsex': 7, 'Marvel': 7, 'KBMOD': 7, 'OttawaSenators': 7, 'ads': 7, 'Trombone': 7, 'WWE': 7, 'craigslist': 7, 'scuba': 7, 'MachineLearning': 7, 'vfx': 7, 'Cuckold': 7, 'Pyongyang': 7, 'ffxi': 7, 'TheAgora': 7, 'pinball': 7, 'nextdoorasians': 7, 'Montana': 7, 'Eugene': 7, 'ArtCrit': 7, 'arabic': 7, 'shameless': 7, 'comedywriting': 7, 'stocks': 7, 'Metroid': 7, 'FifthWorldPics': 7, 'kings': 7, 'timberwolves': 7, 'bayofplenty': 7, 'opensource': 7, 'Teachers': 7, 'Dance': 7, 'barefoot': 7, 'camwhores': 7, 'littleapple': 7, 'SaintsRow': 7, 'puerto_rico': 7, 'bostonceltics': 7, 'mfacirclejerk': 7, 'blackberry': 7, 'Deathcore': 7, 'freeculture': 7, 'Arkansas': 7, 'love2d': 7, 'arsenal': 7, 'coversongs': 7, 'EntExchange': 7, 'Bottomless_Vixens': 7, '90daysgoal': 7, 'rage': 7, 'evangelion': 7, 'AppalachianTrail': 7, 'bookporn': 7, 'sludge': 7, 'BeardPorn': 7, 'macrophoto': 7, 'Djent': 7, 'UUreddit': 7, 'LetsNotMeet': 7, 'Hypothyroidism': 7, 'flint': 7, 'wichita': 7, 'lebanon': 7, 'cyberlaws': 7, 'bandporn': 7, 'TF2LFT': 7, 'ambientmusic': 7, 'modelmakers': 7, 'TrueTrueReddit': 7, 'fringe': 7, 'vorg': 7, 'popping': 7, 'Animals': 7, 'ruleastwokings': 7, 'Torontobluejays': 7, 'mcobj': 7, 'Vegetarianism': 7, 'backpacking': 7, '360eu': 7, 'teamspearhead': 7, 'paris': 7, 'mylittleproblem': 7, 'dxm': 7, 'rdtclan': 7, 'UMD': 7, 'fail': 7, 'onions': 7, 'mmafriendlybets': 7, 'bipolar': 7, 'retrogameswap': 7, 'missoula': 7, 'KSU': 7, 'makenoise': 7, 'Marriage': 7, 'guineapigs': 7, 'LookWhatIKnit': 7, 'AnimalRights': 7, 'palmtrees': 6, 'Etsy': 6, 'Piracy': 6, 'malesgonewild': 6, 'shareastory': 6, 'ScottPilgrim': 6, 'Fixxit': 6, 'ultimate': 6, 'AnnArbor': 6, 'satanism': 6, 'waterporn': 6, 'dahouse': 6, 'v20london': 6, 'Accounting': 6, 'botany': 6, 'reddevils': 6, 'foreveralonevancouver': 6, 'duckduckgo': 6, 'beagle': 6, 'highseddit': 6, 'LondonSocialClub': 6, 'UCSD': 6, 'fasting': 6, 'museum': 6, 'MLPSecretSanta': 6, 'transpassing': 6, 'GirlswithGlasses': 6, 'umass': 6, 'EroticCollectibles': 6, 'infertility': 6, 'audio': 6, 'Colorado': 6, 'Postonecik': 6, 'aggies': 6, 'ShitBrix': 6, 'jollyRanchers': 6, 'conlangs': 6, 'akron': 6, 'steampunk': 6, 'reasoners': 6, 'WhiteRights': 6, 'topwalls': 6, 'stlouisblues': 6, 'legal': 6, 'Amd': 6, 'minnesotabeer': 6, 'REDDITGUILDRESOURCE': 6, 'ztn': 6, 'MINI': 6, 'banjo': 6, 'medicalschool': 6, 'Occupy': 6, 'autism': 6, 'MaleGroupTherapy': 6, 'wordcount': 6, 'csharp': 6, 'UCSC': 6, 'historicalrage': 6, 'LastNight': 6, 'MetalMemes': 6, 'LoLCodeTrade': 6, 'magicskyfairy': 6, 'heat': 6, 'premed': 6, 'SOPAfunny': 6, 'rum': 6, 'USC': 6, 'AmericanHorrorStory': 6, 'love': 6, 'appstate': 6, 'SCW': 6, 'papercraft': 6, 'nerdfighters': 6, 'bootroom': 6, 'Iowa': 6, 'vegetarian': 6, 'Climbingvids': 6, 'selfpublish': 6, 'antiwar': 6, 'Koans': 6, 'VXJunkies': 6, 'DaftPunk': 6, 'TeenMFA': 6, 'Butterflies': 6, 'Hair': 6, 'watersports': 6, 'VinylCollectors': 6, 'vmware': 6, 'NarFFL': 6, 'openttd': 6, 'Moscow': 6, 'bassnectar': 6, 'riddles': 6, 'Planetside': 6, 'metarage': 6, 'losangeleskings': 6, 'idm': 6, 'SpecArt': 6, 'StencilTemplates': 6, 'latin': 6, 'origami': 6, 'nutrition': 6, 'wheatpaste': 6, 'diet': 6, 'singing': 6, 'reddithax': 6, 'ChineseMedicine': 6, 'corpus': 6, 'beadsprites': 6, 'yorku': 6, '52weeksofbaking': 6, 'Deusex': 6, 'DesignPorn': 6, 'DrugLordAdvice': 6, 'psychedelicrock': 6, 'Wordslinger1919': 6, '4hourbodyslowcarb': 6, 'flaglercollege': 6, '2NE1': 6, 'Eragon': 6, 'Fitocracy': 6, 'AnythingGoesDiscuss': 6, 'FL_Studio': 6, 'mypartneristrans': 6, 'pokemonrp': 6, 'toysfortheneedy': 6, 'chastitytraining': 6, 'Tennesseetitans': 6, 'bobdylan': 5, 'threejs': 5, 'classicfilms': 5, 'techsnap': 5, 'CelebFakes': 5, 'fibro': 5, 'cute': 5, 'mmafights': 5, 'InlandEmpire': 5, 'Padres': 5, 'men_in_panties': 5, 'chickflixxx': 5, 'Munich': 5, 'waterloo': 5, 'FTH': 5, 'homeland': 5, 'deadmau5': 5, 'RDDT': 5, '3Dmodeling': 5, 'HowsYourJob': 5, 'MCNSA': 5, 'bostontrees': 5, 'RPI': 5, 'COents': 5, '2012': 5, 'piercing': 5, 'britishproblems': 5, 'spacechem': 5, 'emulation': 5, 'GirlswithPigtails': 5, 'REDDITEXCHANGE': 5, 'Chiptune': 5, 'oakland': 5, 'Trichsters': 5, 'futurebeatproducers': 5, 'Gunsforsale': 5, 'SecretSubreddit': 5, 'NCSU': 5, 'acne': 5, 'motorsports': 5, 'siberianhusky': 5, 'computertechs': 5, 'MW3Elite': 5, 'vita': 5, 'arlington': 5, '30ROCK': 5, 'mylittledns': 5, 'ChicagoSuburbs': 5, 'agnostic': 5, 'Advice': 5, 'shoegaze': 5, 'Audi': 5, 'ragefaces': 5, 'gypsyjazz': 5, 'Dachshund': 5, 'Gear4Sale': 5, 'Dentistry': 5, 'fredericton': 5, 'EnoughInternet': 5, 'fountainpens': 5, 'PunditOdor': 5, 'rally': 5, 'TrollingAnimals': 5, 'blackgirls': 5, 'MA32': 5, 'grunge': 5, 'new_right': 5, 'OperationCorkscrew': 5, 'Samplehunters': 5, 'SantaBarbara': 5, 'Brewers': 5, 'imgur': 5, 'Wilmington': 5, 'lockpicking': 5, 'cancer': 5, 'TheBestPony': 5, 'UCI': 5, 'Chennai': 5, 'israelexposed': 5, 'led_zeppelin': 5, 'whitecollar': 5, 'SocialEngineering': 5, 'WorldUnity': 5, 'Lupin': 5, 'SexyButNotPorn': 5, 'graphic_design': 5, 'futanari': 5, 'SanJoseSharks': 5, 'UNLV': 5, 'GunPorn': 5, 'MyLittleOutOfContext': 5, 'funk': 5, 'Hooping': 5, 'trackandfield': 5, 'wildcats': 5, 'familyguy': 5, 'Divorce': 5, 'blackhat': 5, 'GTA': 5, 'JapaneseFood': 5, 'imdrunk': 5, 'politicsdebate': 5, 'oliviawilde': 5, 'MMJ': 5, 'whatsthisworth': 5, 'selfhelp': 5, 'proper': 5, 'carpediem': 5, 'JournalExchange': 5, 'scarfwild': 5, 'tycoon': 5, 'HeadBangToThis': 5, 'zooeydeschanel': 5, 'glee': 5, 'derby': 5, 'QualityPhotos': 5, 'PHPhelp': 5, 'metametacanada': 5, 'Miata': 5, 'asstastic': 5, 'teamlast': 5, 'melodicmetal': 5, 'redditnoise': 5, 'spain': 5, 'ZenHabits': 5, 'bonnaroo': 5, 'firstworlddogproblems': 5, 'stupidtrades': 5, 'MusicInTheMaking': 5, 'malemodels': 5, 'Breadit': 5, 'erau': 5, 'soflatrees': 5, 'fixit': 5, 'Vindictus': 5, 'ChallengeAccepted': 5, 'kettlebell': 5, 'oprMedia': 5, 'MicroHC': 5, 'redditdynasty': 5, 'devils': 5, 'FREE': 5, 'SpringfieldIL': 5, 'tax': 5, 'FuckThis': 5, 'BostonJobs': 5, 'Lighter': 5, 'Marxism': 5, 'OccuponsMontreal': 5, 'killingfloor': 5, 'metamoderatorjerk': 5, 'chicagobeer': 5, 'fortlauderdale': 5, 'mississippi': 4, 'LibertarianLeft': 4, 'treemovies': 4, 'f7u12faces': 4, 'mead': 4, 'ImGoingToHellForThis': 4, 'WC3': 4, 'OneParagraph': 4, 'Kirby': 4, 'tf2west': 4, 'masculism': 4, 'Bellingham': 4, 'bikesgonewild': 4, 'dragonsanddungeons': 4, 'Thetruthishere': 4, 'ipv6': 4, 'Berserk': 4, 'illinois': 4, 'O_Faces': 4, 'Pokeents': 4, 'pilots': 4, 'england': 4, 'CannabisExtracts': 4, 'longbeach': 4, 'Buffalo': 4, 'redditfest': 4, 'lostgeneration': 4, 'MMORPG': 4, 'TheOldShillelagh': 4, 'snakes': 4, 'Juve': 4, 'edmontonsocialclub': 4, 'hiking': 4, 'BeavisAndButthead': 4, 'norfolk': 4, 'cumonclothes': 4, 'CityOfLA': 4, 'uspolitics': 4, 'urbanplanning': 4, 'berlinsocialclub': 4, 'platooncentral': 4, 'bookexchange': 4, 'southafrica': 4, 'Sithit': 4, 'Purdue': 4, 'lightshow': 4, 'GNV': 4, 'TimAndEric': 4, 'canyoneering': 4, 'ffxiv': 4, 'HighHeels': 4, 'UTSA': 4, 'Louisville': 4, 'mountandblade': 4, 'ShinyPokemon': 4, 'Mylittlenosleep': 4, 'dyke': 4, 'bloomington': 4, 'editors': 4, 'RepublicOfAtheism': 4, 'Tagalog': 4, 'stalker': 4, 'bakedcraft': 4, 'lesbians': 4, 'ActionFigures': 4, 'sexyrepost': 4, 'Mathematica': 4, 'nwi': 4, 'artstore': 4, 'Blogging': 4, 'Huskers': 4, 'aerospace': 4, 'tulsa': 4, 'tsa': 4, 'MyLittleNopeNopeNope': 4, 'NorthCarolina': 4, 'AnRedditTribe': 4, 'Hotchickswithtattoos': 4, 'ipod': 4, 'Learnmusic': 4, 'postrock': 4, 'Drifting': 4, 'INeedAName': 4, 'TeamRedditTeams': 4, 'roosterteeth': 4, 'creepypasta': 4, 'republicans': 4, 'Saxophonics': 4, 'FullmetalAlchemist': 4, 'limbojerk': 4, 'donaldglover': 4, 'BlackMetal': 4, 'puremathematics': 4, '321': 4, 'dunedin': 4, 'VideoEditing': 4, 'pic': 4, 'Amazing2': 4, 'spaceflight': 4, 'TeaParty': 4, 'powerviolence': 4, 'YouthRights': 4, 'Bioshock': 4, 'excatholic': 4, 'mormondebate': 4, 'camphalfblood': 4, 'farming': 4, 'rfelectronics': 4, 'frankfurt': 4, 'veg': 4, 'mylittleartsandcrafts': 4, 'digimon': 4, 'worldevents': 4, 'baduk': 4, 'nottingham': 4, 'under18': 4, 'caDnD': 4, 'gnu': 4, 'commandline': 4, 'windows8': 4, 'indie': 4, 'winnipegjets': 4, 'terrariaservers': 4, 'Pegging': 4, 'AnarchistNews': 4, 'japansports': 4, 'linuxmint': 4, 'StarcraftCirclejerk': 4, 'NewcastleUponTyne': 4, 'trippy': 4, 'aiclass': 4, 'mormon': 4, 'ScienceTeachers': 4, 'homestuckcirclejerk': 4, 'GlobalOffensive': 4, 'FlashGames': 4, 'trekbooks': 4, 'starcat': 4, 'Beekeeping': 4, 'Chefit': 4, 'ParallelWorldProblems': 4, 'Fantasy_Bookclub': 4, 'ProvidEnts': 4, 'MotivatedMusic': 4, 'thingsmykidsaid': 4, 'I_RAPE_PEOPLE': 4, 'catReddit': 4, 'mctourney': 4, 'Fibonacci': 4, 'NaddsSarcophagus': 4, 'Cypher': 4, 'LordV': 4, 'WiiHacks': 4, 'spaceniggers': 4, 'SoProBro': 4, 'Dublin': 4, 'AnaheimDucks': 4, 'UGA': 4, 'liberalarts': 4, 'WomenOfColor': 4, 'trumpet': 4, 'nflcirclejerk': 4, 'Dualsport': 4, 'SaintLouisRams': 4, 'closetswap': 4, 'DirtDanbo': 4, 'PoliticalModeration': 4, 'WWU': 4, 'vzla': 4, 'tobuscus': 4, 'RumourMill': 4, 'newyork': 3, 'antiSOPA': 3, 'darkplace': 3, 'TheGaslightAnthem': 3, 'lasers': 3, 'grool': 3, 'improv': 3, 'ancientworldproblems': 3, 'Adoption': 3, 'nederlands': 3, 'SBU': 3, '2XLookbook': 3, 'purplemusic': 3, 'TF2Lessons': 3, 'RepublicOfPolitics': 3, 'TwinCities': 3, 'gundeals': 3, 'uofu': 3, 'STD': 3, 'Supernatural': 3, 'django': 3, 'fargo': 3, 'chicksinhockeyjerseys': 3, 'bagpipes': 3, 'timetravelerproblems': 3, 'PirateParty': 3, 'MSOE': 3, 'coupons': 3, 'AcousticOriginals': 3, 'glitch_art': 3, 'Rockband': 3, 'counter_strike': 3, 'Eesti': 3, 'Maine': 3, 'ecycle': 3, 'Delaware': 3, 'TrueAskReddit': 3, 'Velo': 3, 'GuessTheMovie': 3, 'stormchasing': 3, 'SQLServer': 3, 'trudge': 3, 'UQreddit': 3, 'SSX': 3, 'nin': 3, 'Crysis': 3, 'bourbon': 3, 'Galaxy_S': 3, 'mentors': 3, 'crazystairs': 3, 'sociology': 3, 'CFL': 3, 'slowcooking': 3, 'redstone': 3, 'Destiny': 3, 'RUG_Leeds': 3, 'StupidShitDeanSays': 3, 'Images': 3, 'whitesox': 3, 'Tobacco': 3, 'rockhounds': 3, 'athensohio': 3, 'AmericanPolitics': 3, 'NAW': 3, 'Food_Pantry': 3, 'norge': 3, 'playwriting': 3, 'metacirclejerk': 3, 'LANL_Russian': 3, 'hockeygear': 3, 'crazyhair': 3, 'depaul': 3, 'blues': 3, 'mysterybox': 3, 'IndieFolk': 3, 'crappymusic': 3, 'switcharoo': 3, 'chapelhill': 3, 'CalPoly': 3, 'noiserock': 3, 'PanicHistory': 3, 'lampwork': 3, 'Switzerland': 3, 'Horses': 3, 'Mankato': 3, 'UniversityOfHouston': 3, 'Alabama': 3, 'gmu': 3, 'blackflag': 3, 'simracing': 3, '4x4': 3, 'britishcolumbia': 3, 'msu': 3, 'SomebodyMakeThis': 3, 'bradneely': 3, 'survivor': 3, 'Norse': 3, 'fisaspleef': 3, 'russian': 3, 'UniSeddit': 3, 'natalieportman': 3, 'hopeless_posts': 3, 'ManhoodAcademy': 3, 'beadick': 3, 'indonesia': 3, 'SQL': 3, 'ArtisanVideos': 3, 'Hereford': 3, 'dpdr': 3, 'atljobs': 3, 'ReverseEngineering': 3, 'johnbarrowman': 3, 'Tufts': 3, 'pornID': 3, 'irc': 3, 'DJSetups': 3, 'findanentwifefriend': 3, 'AngieVarona': 3, 'machinima': 3, 'richarddawkins': 3, 'christmas': 3, 'Ebay': 3, 'fffffffuuuuuuuuuuu': 3, 'opera': 3, 'ios': 3, 'webhosting': 3, 'christinahendricks': 3, 'sonic': 3, 'wemetonline': 3, 'Database': 3, 'AmeriCorps': 3, 'peacecorps': 3, 'atheist': 3, 'lezsaysmoargaming': 3, 'keyboards': 3, 'ambien': 3, 'shamelessplug': 3, 'glutenfreecooking': 3, 'porn': 3, 'JurassicPark': 3, 'auckland': 3, 'women': 3, 'Transhuman': 3, 'AusBalmoral': 3, 'progrockmusic': 3, 'ZombieSurvivalTactics': 3, 'columbiamo': 3, 'Suomi': 3, 'tinydick': 3, 'ukbike': 3, 'timbers': 3, 'AZCardinals': 3, 'RandomMail': 3, 'GifSound': 3, 'bikinis': 3, 'serbia': 3, 'BoardwalkEmpire': 3, 'atheismbot': 3, 'Seriouscorp': 3, 'metanarchism': 3, 'gamenostalgia': 3, 'crabdancemc': 3, 'ncssm': 3, 'otaku': 3, 'justvent': 3, 'trailerparkboys': 3, 'campFEMA': 3, 'Drexel': 3, 'teaching': 3, 'BCIT': 3, 'fantasyhockey': 3, 'Interestingstuff': 3, 'upcycling': 3, 'adventuregames': 3, 'StanleyKubrick': 3, 'polyphasic': 3, 'homebrew': 3, 'memes': 3, 'gggg': 3, 'mnc': 3, 'IFinallyNoticed': 3, 'galway': 3, 'oxeyegames': 3, 'alcoholism': 3, 'evolution': 3, 'Antiques': 3, 'smokerslounge': 3, 'Warcraft': 3, 'JudgeMyArt': 3, 'RestaurantRage': 3, 'renoise': 3, 'santacruz': 3, 'WoWGoldMaking': 3, 'BlackAtheism': 3, 'freegames': 3, 'kansas': 3, 'Mario': 3, 'aquaponics': 3, 'harmonica': 3, 'baww': 3, 'canton': 3, 'wowtcg': 3, 'codeprojects': 3, 'NUMarchingBand': 3, 'LGBTrees': 3, 'jeddit': 3, 'beertrade': 3, 'Waifu': 3, 'chickens': 3, 'recordstore': 3, 'falcons': 3, 'MkeBucks': 3, 'Braves': 3, 'randomactsofcoffee': 3, 'Miami': 3, 'USHistory': 3, 'Sillyboy': 3, 'earthbound': 3, 'DanishEnts': 3, 'css': 3, 'jquery': 3, 'RepublicOfPics': 3, 'kaiju': 3, 'AdPorn': 3, 'CS_Questions': 3, 'drmremoval': 3, 'ebooks': 3, 'rapecounseling': 3, 'moombahton': 3, 'evo3d': 3, 'Warmachine': 3, 'UWMadison': 3, 'fishtank': 3, 'greekmusic': 3, 'xbmc': 3, 'medievalworldproblems': 3, 'askminecraft': 3, 'MaximumTheHormone': 3, 'savannah': 3, 'NAE2': 3, '1000words': 3, 'CalPolyPomona': 3, 'USMilitarySO': 3, 'RedditSuggest': 3, 'Thunder': 3, 'epublication': 3, 'diablo3': 3, 'Invites': 3, 'costuming': 3, 'customization': 3, 'MichaelJackson': 3, 'Pikmin': 3, 'minecraftmaps': 3, 'memphis': 3, 'BitcoinMining': 2, 'LAGTV': 2, 'penguins': 2, 'MinecraftProTips': 2, 'protools': 2, 'pronest': 2, 'puzzles': 2, 'AusCraft': 2, 'PHXMeetup': 2, 'motivation': 2, 'Bento': 2, 'Sudbury': 2, 'Juicing': 2, 'AskStatistics': 2, 'swedishsnus': 2, 'BaconitWP': 2, 'HunterXHunter': 2, 'ponypapers': 2, 'ServerPorn': 2, 'mlclass': 2, 'Rants': 2, 'SecurityAnalysis': 2, 'longboardingGEAR': 2, 'Scrubs': 2, 'censorship': 2, 'ponyRPG': 2, 'goatknuckledice': 2, 'ClimbingPorn': 2, 'uakron': 2, 'PointsPlus': 2, 'Catan': 2, 'rpac': 2, 'SomethingNew': 2, 'indepthstories': 2, '3DSplay': 2, 'cedarrapids': 2, 'Northwestern': 2, 'htpc': 2, 'CelebrityFeet': 2, 'neurophilosophy': 2, 'badkarma': 2, 'FML': 2, 'pushmo': 2, 'eastbay': 2, 'RedDwarf': 2, 'italodisco': 2, 'Politics_Uncensored': 2, 'straightedge': 2, 'Feudalism': 2, 'dresdenfiles': 2, 'steamfriends': 2, 'residentevil': 2, 'shiba': 2, 'ru': 2, 'Whistler': 2, 'IMadeThis': 2, 'denvernuggets': 2, 'Green': 2, 'TrainPorn': 2, 'nsfw_videos': 2, 'tahoe': 2, 'modnews': 2, 'CemeteryPorn': 2, 'INTP': 2, 'TheVampireDiaries': 2, 'wat': 2, 'Cameras': 2, 'rape': 2, 'Idaho': 2, 'TeaseMePleaseMe': 2, 'AsianFilms': 2, 'mspaint': 2, 'milwaukee': 2, 'mylittleminecraft': 2, 'Applejack': 2, 'learnpython': 2, 'OCTrees': 2, 'OccupySD': 2, 'weed': 2, 'CAKEWIN': 2, 'USAUnity': 2, 'lanoire': 2, 'rescuedogs': 2, 'SexPositive': 2, 'barter': 2, 'TodayIWore': 2, 'amarillo': 2, 'GirlsinStripedSocks': 2, 'Rainmeter': 2, 'valve': 2, 'Blink182': 2, 'wave': 2, 'Pizza': 2, 'Shipwrecks': 2, 'redditcon': 2, 'PowerMetal': 2, 'florida': 2, 'shortwave': 2, 'UPenn': 2, 'triphop': 2, 'GaragePunk': 2, 'Spanking': 2, 'freelanceWriters': 2, 'jhu': 2, 'Stance': 2, 'SG2K12': 2, 'fetish': 2, 'byu': 2, 'AFL': 2, 'NewIsrael': 2, '7String': 2, 'MW2': 2, 'MTU': 2, 'Darkfall': 2, 'Panama': 2, 'Zelda_Romance': 2, 'RagnarokOnline': 2, 'albumreviews': 2, 'Minibio': 2, 'ketorage': 2, 'golang': 2, 'cyclocross': 2, 'frenchmaid': 2, 'GoliathWorld': 2, 'AcademicPhilosophy': 2, 'Twitter': 2, 'brandnew': 2, 'louisck': 2, 'guyjc': 2, 'collegesluts': 2, 'LadyGaga': 2, 'NewAmerica': 2, 'CSUS': 2, 'campbellriver': 2, 'House': 2, 'dayton': 2, 'police': 2, 'breakcore': 2, 'BritishRadio': 2, 'yester': 2, 'Gamingcirclejerk': 2, 'SFSU': 2, 'SkyrimActors': 2, 'Heavymind': 2, 'OklahomaUnity': 2, 'brink': 2, 'mylittlevideos': 2, 'PayforPlay': 2, 'jamt9000': 2, 'Dofus': 2, 'San_Angelo': 2, 'YAlit': 2, 'anal': 2, 'insects': 2, 'ludology': 2, 'friskydingo': 2, 'Tabs': 2, 'shitfits': 2, 'GraffitiContests': 2, 'OccupyOrlando': 2, 'notporn': 2, 'Bisexy': 2, 'FRC': 2, 'CanadianForces': 2, 'shrooms': 2, 'Bagcat': 2, 'BANGARANG': 2, 'Groups': 2, 'Proofreading': 2, 'Cthulhu': 2, 'tacobell': 2, 'westtoo': 2, 'Nepal': 2, 'manass': 2, 'GayGifs': 2, 'doommetal': 2, 'nanaimo': 2, 'request': 2, 'LANL_German': 2, 'psychopharmacology': 2, 'footbag': 2, 'shreveport': 2, 'HairyArmpits': 2, 'VintageBabes': 2, 'MFA': 2, 'asshole': 2, 'beijing': 2, 'davematthewsband': 2, 'symphonicmetal': 2, 'overpopulation': 2, 'mazaodds': 2, 'softscience': 2, 'UBC': 2, 'wien': 2, 'freelance': 2, 'Nokia': 2, 'firstgradeproblems': 2, 'Wellington': 2, 'nsfl': 2, 'gossip': 2, 'eroticliterature': 2, 'LoLReplays': 2, 'PoniesLookingAtThings': 2, 'rickygervais': 2, 'ImaginaryLandscapes': 2, 'BreastExpansion': 2, 'homedefense': 2, 'lxnews': 2, 'lingerie': 2, 'Corruption': 2, 'desktops': 2, 'Battlefield': 2, 'Darkroom': 2, 'ponymemes': 2, 'cheatthesystem': 2, 'newhampshire': 2, 'Cascadia': 2, 'xna': 2, 'tasker': 2, 'regularshow': 2, 'smallbusiness': 2, 'openSUSE': 2, 'everyonesamod': 2, 'RedHotChiliPeppers': 2, 'LGBTnews': 2, 'Gundam': 2, 'Issues': 2, 'TransphobiaProject': 2, 'tickling': 2, 'halo3': 2, 'uncharted': 2, 'oprit': 2, 'demonssouls': 2, 'treesnews': 2, '299bot': 2, 'BibleCoverToCover': 2, 'Augusta': 2, 'Cubs': 2, 'football': 2, '3dsmax': 2, 'rails': 2, 'afterthepostrock': 2, 'Artists': 2, 'parentsofmultiples': 2, 'WhiteLabels': 2, 'fantasyfb': 2, 'SF_Book_Club': 2, 'japaneseanimation': 2, 'windsorontario': 2, 'ArtHistory': 2, 'deaf': 2, 'AnimalRescue': 2, 'alpinism': 2, 'revolution': 2, 'PersonalDevelopment': 2, 'Excelsior': 2, 'soccergaming': 2, 'boysing': 2, 'union': 2, 'Austria': 2, 'lacrosse': 2, 'SFBayJobs': 2, 'koolkidsklub': 2, 'nyu': 2, 'Indiana': 2, 'BDSMpersonals': 2, 'taylorgang': 2, 'olympics': 2, 'steampony': 2, 'SingleParents': 2, 'Unashamed': 2, 'weeaboo': 2, 'selfserve': 2, 'TheAvettBrothers': 2, 'algorithms': 2, 'PictureChallenge': 2, 'i18n': 2, 'b210k': 2, 'SFGiants': 2, 'sleep': 2, 'firstfinestforever': 2, 'firewater': 2, 'tablets': 2, 'Brampton': 2, 'filmfashion': 2, 'RoCirclejerk': 2, 'Kubuntu': 2, 'matlab': 2, 'Knoxville': 2, 'jagermeister': 2, 'mathematics': 2, 'lattspenis': 2, 'GiveMe40Days': 2, 'neology': 2, 'squirrels': 2, 'passionx': 2, 'Metallica': 2, 'empireearth': 2, 'msflight': 2, 'avantgardemetal': 2, 'MoviePosterPorn': 2, 'KWBookClub': 2, 'RedditDayOf': 2, 'HipHopInstrumentals': 2, 'sexpertslounge': 2, 'xmonad': 2, 'venturacounty': 2, 'AncientAliens': 2, 'spod': 2, 'ghostbusters': 2, 'SAP': 2, 'astoria': 2, 'DecidingToBeBetter': 2, 'vim': 2, 'johnstown': 2, 'torontoraptors': 2, 'ocala': 2, 'Mabinogi': 2, 'vaporization': 2, 'futurefunkairlines': 2, 'pornfree': 2, 'manchester': 2, 'BallState': 2, 'DessertPorn': 2, 'Liverpool': 2, 'F1U1': 2, 'starfox': 2, 'Broadway': 2, 'roblox': 2, 'randomacts': 2, 'peanut_butter': 2, 'Thewarondrugs': 2, 'Fibromyalgia': 2, 'Holmes': 2, 'BurningMan': 2, 'googleplus': 2, 'Tees': 2, 'astrophotography': 2, 'average': 2, 'asexuality': 2, 'fuckingphilosophy': 2, 'ThriftStoreHauls': 2, 'NoPoo': 2, 'vintagecomputing': 2, 'dirtyg': 2, 'ccna': 2, '100sets': 2, 'mcgill': 2, 'seinfeld': 2, 'Thrifty': 2, 'Watch_Me_Ban_You': 2, 'veganrecipes': 2, 'TouringMusicians': 2, 'BDSMGW': 2, 'sto': 2, 'SFBayHousing': 2, 'RepublicOfMusic': 2, 'AustinClassifieds': 2, 'indiemusic': 2, 'matheducation': 2, 'wacrover': 2, 'Bluegrass': 2, 'Filevo': 2, 'SmarterEveryDay': 2, 'Louisiana': 2, 'FBcovers': 2, 'pepe': 2, 'MCLA': 2, 'FacialFun': 2, 'PhilosophyofReligion': 2, 'Munchkin': 2, 'aesoprock': 2, 'TakeaPlantLeaveaPlant': 2, 'treedibles': 2, 'opendirectories': 2, 'helden': 2, 'electronic_circuits': 2, 'dolan': 2, 'colum': 2, 'Plumbing': 2, 'KerbalSpaceProgram': 2, 'weightlifting': 2, 'tf2au': 2, 'node': 2, 'DuelingCorner': 2, 'short': 2, 'Intelligence': 2, 'legs': 2, 'Sword_Of_Ajunta_Pall': 2, 'flyfishing': 2, 'nude': 2, 'occupylosangeles': 2, 'DungeonsofDredmor': 2, 'turtle': 2, 'skype': 2, 'sloths': 2, 'DestructionPorn': 2, 'OKState': 2, 'ABraThatFits': 2, 'andSec': 2, 'australianmusic': 2, 'Home': 2, 'gnome': 2, 'br0': 2, 'infiniteapples': 2, 'Word_of_The_Day': 2, 'techsavvy': 2, 'CortexCommand': 2, 'Nujabes': 2, 'KylesCraft': 2, 'LittleRock': 2, 'SVRiders': 2, 'HomeMaintenance': 2, 'gaynsfw': 2, 'weddingplanning': 2, 'rhps': 2, 'NIU': 2, 'Flute': 2, 'LasVegas': 2, 'survivalhorror': 2, 'oxforduni': 2, 'ElectricForest': 2, 'BDSMerotica': 2, 'audioinsurrection': 1, 'newyear': 1, 'Yakima': 1, 'santarosa': 1, 'worldwar': 1, 'AskNetsec': 1, 'AdvancedFitness': 1, 'bulgaria': 1, 'LetsRide': 1, 'Millersville': 1, 'lotro': 1, 'USCivilWar': 1, 'freeforallfashion': 1, 'redorchestra': 1, 'conan': 1, 'RenewableEnergy': 1, 'RealPhilosophy': 1, 'liquiddnb': 1, 'glasgow': 1, 'canadients': 1, 'animeclub': 1, 'Astrobiology': 1, 'GBPolitics': 1, 'fonts': 1, 'NovaScotia': 1, 'theoreticaldiscourse': 1, 'FlightSimulator': 1, 'editing': 1, 'SelfSufficiency': 1, 'Shemales': 1, 'jerseycity': 1, 'bristol': 1, 'lolrats': 1, 'dystopia': 1, 'haiku': 1, 'government': 1, 'uruguay': 1, 'idolmaster': 1, 'iastate': 1, 'SpokaneJobs': 1, 'byuproblems': 1, 'LAjobs': 1, 'AquaJail': 1, 'centralpa': 1, 'Cello': 1, 'carbon8': 1, 'Msstate': 1, 'Lawrence': 1, 'rolltide': 1, 'RANDOMCONTESTS': 1, '250r': 1, 'utdallas': 1, 'drupal': 1, 'oldlive': 1, 'falsedicks': 1, 'simssocial': 1, 'reddeadredemption': 1, 'NZTrees': 1, 'computervision': 1, 'IthacaCollege': 1, 'iphonehelp': 1, 'montgomery': 1, 'arielwinter': 1, 'starlets': 1, 'FoundArt': 1, 'TellMeSomethingGood': 1, 'linuxadmin': 1, 'StopSelfHarm': 1, 'sticker': 1, 'cooperatives': 1, 'sigurros': 1, 'ufc': 1, 'fieldnipples': 1, 'codes': 1, 'lol': 1, 'ALLCAPS': 1, 'printmaking': 1, '1985sweet1985': 1, 'bf3au': 1, 'homemadexxx': 1, 'Nebraska': 1, 'JusticeParty': 1, 'bloodlinechampions': 1, 'GeekTool': 1, 'frenchelectro': 1, 'StanaKatic': 1, 'birding': 1, 'Archaeology': 1, 'billiards': 1, '8tracks': 1, 'ween': 1, 'pantheism': 1, 'RonPaulisaNut': 1, 'AllArts': 1, 'CHaosCraft': 1, 'wifesharing': 1, 'project1999': 1, 'stepparents': 1, 'gtd': 1, 'Clarinet': 1, 'balkanpolitics': 1, 'EntSuperCenter': 1, 'breakbeat': 1, 'coloradocollege': 1, 'PoliticsUK': 1, 'counterstrike': 1, 'RCC': 1, 'optimusv': 1, 'meth': 1, 'frontensemble': 1, 'AussieHipHop': 1, 'drumstep': 1, 'fourthworldproblems': 1, 'Disco': 1, 'TillSverige': 1, 'UrbanMyths': 1, 'recycling': 1, 'weezer': 1, 'sarasota': 1, 'Otters': 1, 'Foursquare': 1, 'TrueAtheist': 1, 'sanmarcos': 1, 'additive': 1, 'flowers': 1, 'ChloeMoretz': 1, 'HelloKitty': 1, 'CODYoutube': 1, 'gunk': 1, 'PhotoEdited': 1, 'Hedgehog': 1, '1911': 1, 'minecraftau': 1, 'godaddy': 1, 'Plekpedia': 1, 'windowsphone': 1, 'mk9': 1, 'RaidingRainbow': 1, 'StonerPhilosophy': 1, 'ColorBlind': 1, 'thennnow': 1, 'ses': 1, 'AtlantaTrees': 1, 'Paleontology': 1, 'vogonpoetrycircle': 1, 'pvelothos': 1, 'AtheneLive': 1, 'folk': 1, 'ragingbear': 1, 'Soulies': 1, 'ShadowBanned': 1, 'Samesexparents': 1, 'ScrapMetal': 1, 'Tuba': 1, 'stolaf': 1, 'duckface': 1, 'flash': 1, 'fiction': 1, 'ASU': 1, 'Vassal40k': 1, 'Wales': 1, 'lolcounters': 1, 'MontgomeryCountyMD': 1, 'Friendzone': 1, 'Agronomy': 1, 'mctexturepacks': 1, 'douglasadams': 1, 'fuckbuddies': 1, 'ITdept': 1, 'DrugNerds': 1, 'geneva': 1, '2X_INTJ': 1, 'SteveJobs': 1, 'Curling': 1, 'dragonage': 1, 'chibike': 1, 'advertising': 1, 'SexyButts': 1, 'ProjectReality': 1, 'PERU': 1, 'MLPtunes': 1, 'AusBeer': 1, 'FutureTechnology': 1, 'PokePorn': 1, 'melodicdeathmetal': 1, 'Veterans': 1, 'Damiana': 1, 'cade': 1, 'contests': 1, 'puns': 1, 'tamorapierce': 1, 'drumcorps': 1, 'neuro': 1, 'Harvard': 1, 'greenville': 1, 'kittenplus': 1, 'Outdoors': 1, 'pranks': 1, 'koreanbbq': 1, 'Nirvana': 1, 'Luthier': 1, 'Stuyvesant': 1, 'Futurology': 1, 'kof': 1, 'rugc_greatlakes': 1, 'rollerderby': 1, 'Lightroom': 1, 'AtheismComingOut': 1, 'warriors': 1, 'demsocialist': 1, 'Shave_Bazaar': 1, 'moviecritic': 1, 'futbolmx': 1, 'Tricking': 1, 'startup': 1, 'OpenChristian': 1, 'guitarnoise': 1, 'boats': 1, 'ZGeek': 1, 'malefashion': 1, 'VelvisPalace': 1, 'coffeescript': 1, 'a2a': 1, 'sexystories': 1, 'boltedonlips': 1, 'BSD': 1, 'TheDarkTower': 1, 'jirclecerk': 1, 'Modern_Family': 1, 'DeadSpace': 1, 'LibraryofBabel': 1, 'Calligraphy': 1, 'guitarpedals': 1, 'princeton': 1, 'MitchellAndWebb': 1, 'Fremont': 1, 'superhoops': 1, 'StarKid': 1, 'FightingIsMagic': 1, 'Honolulu': 1, 'lists': 1, 'SoundersFC': 1, 'MinecraftFortPorn': 1, 'dadmin': 1, 'fresno': 1, 'wsu': 1, 'dailydot': 1, 'antarctica': 1, 'OhioStateBasketball': 1, 'Washington': 1, 'Entomology': 1, 'UAP': 1, 'tinycode': 1, 'fantasybasketballnews': 1, 'twidder': 1, 'LAGalaxy': 1, 'BetaArmy': 1, 'newenglandrevolution': 1, 'Lesbients': 1, 'rpjh': 1, 'minnesotatwins': 1, 'USI': 1, 'AnalWreakage': 1, 'gwu': 1, 'fractals': 1, 'tfc': 1, 'philly': 1, 'BookCollecting': 1, 'triplej': 1, 'reptiles': 1, 'animenews': 1, 'DeclineofUS': 1, 'Staples': 1, 'occupychi': 1, 'LasCruces': 1, 'IJustListened': 1, 'wicked_edge_GW': 1, 'Rolla': 1, 'Jungma': 1, 'ShittyTechSupport': 1, 'PoliticalPhilosophy': 1, 'ft86': 1, 'Militaryraging': 1, 'quake': 1, 'VIU': 1, 'p90xlog': 1, 'steamdeals': 1, 'dominicans': 1, 'Eagle_Scouts': 1, 'StateOfTheUnion': 1, 'DickRip': 1, 'formylover': 1, 'lua': 1, 'okcthunder': 1, 'llua': 1, 'neildegrassetyson': 1, 'random_acts_of_skype': 1, 'winterporn': 1, 'aikido': 1, 'Adult_Webmasters': 1, 'SixFeetUnder': 1, 'rollerblading': 1, 'KamenRider': 1, 'bookhaul': 1, 'bugs': 1, 'BigotryShowcase': 1, 'SOS': 1, 'merlinbbc': 1, 'Antitheism': 1, 'PhantomandFriends': 1, 'EroticHypnosis': 1, 'michiganriders': 1, 'whedon': 1, 'ScienceNetwork': 1, 'CafeRacers': 1, 'freemusic': 1, 'Jewellery': 1, 'videogamebabes': 1, 'FreshPrince': 1, 'vagina': 1, 'bartenders': 1, 'HTCEVO': 1, 'googleearthporn': 1, 'penaddict': 1, 'houstonents': 1, 'Neuropsychology': 1, 'neckbeardrights': 1, 'Karting': 1, 'sheffield': 1, 'NewsPorn': 1, 'lightsallnight': 1, 'baseballcard': 1, 'indiecinema': 1, 'randomactsofbirthday': 1, 'Laptops13': 1, 'apathy': 1, 'usyd': 1, 'sacredcows': 1, 'skulls': 1, 'RockClimbing': 1, 'misfits': 1, 'electro': 1, 'EFLcomics': 1, 'CCCP': 1, 'WiiGoldeneye': 1, 'tf2replays': 1, 'SolidWorks': 1, 'celebrities': 1, 'ShakenFaces': 1, 'Bullion': 1, 'Shaskel': 1, 'womenofcolorXXX': 1, 'theleaguefx': 1, 'computerforensics': 1, 'StreetFighter': 1, 'CrappyArt': 1, 'Freethought': 1, 'realization': 1, 'audiojerk': 1, 'Illustration': 1, 'FloridaGators': 1, 'deals': 1, 'UofArizona': 1, 'produceproblems': 1, 'entourage': 1, 'GirlsWithBikes': 1, 'eFashionClothing': 1, 'Christian': 1, 'Frat': 1, 'portlandpics': 1, 'paragliding': 1, 'KappaSigma': 1, 'Assorted': 1, 'kde': 1, 'libraryofshadows': 1, 'FortBadgerton': 1, 'sexydeer': 1, 'Zionism': 1, 'Liberty': 1, 'shuffling': 1, 'mtred': 1, 'Livermore': 1, 'rock': 1, 'chaos': 1, 'Scams': 1, 'MeetPeople': 1, 'venturebros': 1, 'BlocParty': 1, 'germusic': 1, 'AskGoneWild': 1, 'LGBTeens': 1, 'kickassday': 1, 'joomla': 1, 'GBr4r': 1, 'auzland': 1, 'susancoffey': 1, 'TOR': 1, 'justrealized': 1, 'Minneapolis': 1, 'Aberdeen': 1, 'roomdetective': 1, 'Madrid': 1, 'anarchotranshumanist': 1, 'QuantumComputing': 1, 'CuteRobot': 1, 'atheismindia': 1, 'WouldYouRather': 1, 'rageart': 1, 'mathbooks': 1, 'KnowYourRights': 1, 'insertions': 1, 'lonely': 1, 'Acoustics': 1, 'GLaDOS': 1, 'ISTJ': 1, 'cfr': 1, 'tamil': 1, 'redkosmos': 1, 'YoungJobs': 1, 'Swingers': 1, 'DailyShow': 1, 'IndustrialDesign': 1, 'IrelandGames': 1, 'aliens': 1, 'orsiko': 1, 'theredeclipse': 1, 'Dyrus': 1, 'cork': 1, 'whalebait': 1, 'BigFriendlyRobot': 1, 'OccupyBoston': 1, 'a6theism10': 1, 'ArticlesAboutMen': 1, 'ElleFanning': 1, 'luelinks': 1, 'homestuck14': 1, 'highereducation': 1, 'spirituality': 1, 'TottonCraft': 1, 'SunnyChicks': 1, 'stcatharinesON': 1, 'transhumanism': 1, 'legalizeit': 1, 'humanism': 1, 'stronghold': 1, 'ratemyband': 1, 'tron': 1, 'Winchester': 1, 'fucktoy': 1, 'FinancialPlanning': 1, 'Aniphon': 1, 'indianajones': 1, 'MusicAlbums': 1, 'marketing': 1, 'PsychOut': 1, 'Ethiopia': 1, 'Standup': 1, 'CASTING': 1, 'Clojure': 1, 'OnLive': 1, 'Chengdu': 1, 'Hotwife': 1, 'PublicRelations': 1, 'Tajine': 1, 'brighton': 1, 'redsox': 1, 'tea_party': 1, 'oslo': 1, 'WorldMusic': 1, 'fsu': 1, 'Tim': 1, 'AdvancedRunning': 1, 'SFTS': 1, 'chesthairporn': 1, 'cheeseburgers': 1, 'Demoscene': 1, 'Shatter': 1, 'RapingWomen': 1, 'Charcuterie': 1, 'PhilosophyofMath': 1, 'audiobooks': 1, 'XFiles': 1, 'geeks': 1, 'Guelph': 1, 'FortPorn': 1, 'HouseMD': 1, 'FamilyTrees': 1, 'TIP': 1, 'malton': 1, 'KjellsLinker': 1, 'TOMTcoldcase': 1, 'Welding': 1, 'fingerpickers': 1, 'SurviveNThrive': 1, 'PhxClassWarCouncil': 1, 'geekguys': 1, 'Worldnewsinarabic': 1, 'logophilia': 1, 'roswell': 1, 'Madden': 1, 'grime': 1, 'TenYearsAgo': 1, 'pentatonix': 1, 'AskSciTech': 1, 'teknoloji': 1, 'delhi': 1, 'festivals': 1, 'youngstown': 1, 'coding': 1, 'frenchally': 1, 'Playboy': 1, 'thoriumreactor': 1, 'roasting': 1, 'IndianBabes': 1, 'ZOG': 1, 'BritishJewishPower': 1, 'avporn': 1, 'Charlottesville': 1, 'RedditOriginals': 1, 'Suomipelit': 1, 'minimal': 1, 'supermetacirclejerk': 1, 'MideastPeace': 1, 'ExplainLawLikeIm5': 1, 'nationalist': 1, 'smoking': 1, 'Dansk': 1, 'BostonTerrier': 1, 'UCONN': 1, 'tabletennis': 1, 'topeka': 1, 'wiki': 1, 'GrammarNazi': 1, 'redditstories': 1, 'adderall': 1, 'OistMafia': 1, 'lisp': 1, 'verizon': 1, 'Magento': 1, 'SWTORGuilds': 1, 'CSULB': 1, 'longisland': 1, 'joowz': 1, 'buttcrack': 1, 'TRGG': 1, 'RandomDeclarations': 1, 'perl': 1, 'thighhighs': 1, 'JFLcomics': 1, 'canterbury': 1, 'birdsofprey': 1, 'Discussion': 1, 'LibraryofReddit': 1, 'athiest': 1, 'Weight': 1, 'ADHD': 1, 'gamingnews': 1, 'Studyhall': 1, 'amazon': 1, 'RS2006': 1, 'TheFatMan': 1, 'latvia': 1, 'food2': 1, 'Islamiates': 1, 'Tree': 1, 'camping': 1, 'Boobies_Are_Awesome': 1, 'UCalgary': 1, 'sousvide': 1, 'TampaBayLightning': 1, 'freethinkers': 1, 'BloomCounty': 1, 'FatFighters': 1, 'schnauzers': 1, 'lookatmygirlfriend': 1, 'barista': 1, 'everything': 1, 'silentfilm': 1, 'Sexy': 1, 'logo': 1, 'soundtracks': 1, 'DCforRent': 1, 'comedy': 1, 'Longmont': 1, 'Exercise': 1, 'Leadership': 1, 'MusicVideos': 1, 'TheBlackKeys': 1, 'CoalTraders': 1, 'Upskirt': 1, 'couchsurfing': 1, 'etsmtl': 1, 'HuntsvilleAlabama': 1, 'TodayistheDay': 1, 'gunbound': 1, 'sixwordstories': 1, 'explainlikeIAmA': 1, 'water': 1, 'computebazaar': 1, 'cocaine': 1, 'apple2': 1, 'Cityofheroes': 1, 'salukis': 1, 'shittyaskhistory': 1, 'Tf2Trading': 1, 'ShortFilm': 1, 'ChallengeReddit': 1, 'kylebryce': 1, 'uktreesmeets': 1, 'abortion': 1, 'zoophilia': 1, 'Yogscast': 1, 'IAmSelling': 1, 'SWORDS': 1, 'tarroblood': 1, 'RhodeIsland': 1, 'mauritius': 1, 'CommonLaw': 1, 'gaygeek': 1, 'lacrossewi': 1, 'Creighton': 1, 'achewood': 1, 'icarly': 1, 'radioreddit': 1, 'Nipples': 1, 'headynicoll': 1, 'happyendings': 1, 'noobdad': 1, 'bigonewild': 1, 'ElSalvador': 1, 'anthro': 1, 'choralmusic': 1, 'ethnicdudes': 1, 'hustler': 1, 'TMBR': 1, 'Egypt': 1, 'Conspirafact': 1, 'xss': 1, 'Caramel': 1, 'pasta': 1, 'nsfw2': 1, 'DYR': 1, 'ModerationPorn': 1, 'alpharetta': 1, 'DarthXedrix': 1, 'CastleTV': 1, 'whatstheword': 1, 'FirePorn': 1, 'irishmusicscene': 1, 'realworldproblems': 1, 'bournemouth': 1, 'NSFW_nospam': 1, 'JoshuaTree': 1, 'ChicagoStandUp': 1, 'nsfwcosplay': 1, 'swinghouse': 1, 'tests': 1, 'Burlesque': 1, 'ElderScrolls': 1, 'ShinyPorn': 1, 'photobomb': 1, 'pennystocks': 1, 'pokemontd': 1, 'ArrowToTheKnee': 1, 'thetachi': 1, 'scheme': 1, 'appetizers': 1, 'ektenyheter': 1, 'ragelationships': 1, 'Fencing': 1, 'runningfromcamera': 1, 'HBD': 1, 'driftking': 1, 'Cheese': 1, 'Torchwood': 1, 'TexasTech': 1, 'APB': 1, 'baldursgate': 1, 'SEGA': 1, 'gcsu': 1, 'DoItTogether': 1, 'mlb': 1, 'interiorsandliving': 1, 'Scary': 1, 'uatbei': 1, 'Moonbase229': 1, 'WKU': 1, 'santacruzlocals': 1, 'DMT': 1, 'html5': 1, 'frozensynapse': 1, 'ECEProfessionals': 1, 'OccupyDenver': 1, 'KarmaStarcraft': 1, 'paleoconservative': 1, 'althistory': 1, 'JAndCTouchesBodys': 1, 'BreakfastFood': 1, 'columbusmusic': 1, 'maturewomen': 1, 'DVC': 1, 'animebazaar': 1, 'WhiskeyReviews': 1, 'Horia': 1, 'Equus': 1, 'delphi': 1, 'Epilepsy': 1, 'mathpics': 1, 'dreaming': 1, 'redditores': 1, 'XboxAhoy': 1, 'bodyboarding': 1, 'MobileAL': 1, 'berlin': 1, 'PlayBook': 1, 'HIlaryduff': 1, 'Kingwood': 1, 'Enneagram': 1, 'usenet': 1, 'infograffiti': 1, 'Shopping': 1, 'neotopia': 1, 'calmhands': 1, 'autogynephilia': 1, 'trailmeals': 1, 'bagel411': 1, 'Pigton': 1, 'GameOffers': 1, 'Waco': 1, 'bboy': 1, 'Greyhounds': 1, 'mylittlerage': 1, 'beglat': 1, 'MultipleSclerosis': 1, 'NSFR': 1, 'NorthAdams': 1, 'minitroopers': 1, 'TreesSketchbook': 1, 'DesktopDungeons': 1, 'hoarding': 1, 'Project52audio': 1, 'tf2circlejerk': 1, 'codeigniter': 1, 'PachiPachi': 1, 'psat': 1, 'RoundRock': 1, 'redditdev': 1, 'criticism': 1, 'MassiveCock': 1, 'tonightsdinner': 1, 'haxball': 1, 'waitingGames': 1, 'twincitiesents': 1, 'treephilly': 1, 'Bombing': 1, 'BPD': 1, 'alameda': 1, 'aachen': 1, 'slacklining': 1, 'sockgirls': 1, 'assholes': 1, 'Zodiac': 1, 'Youngluck': 1, 'uleth': 1, 'minecraftschematics': 1, 'MyLittlePlaydate': 1, 'joke': 1, 'gerbil': 1, 'scientology': 1, 'austrolib_watchdog': 1, 'belgium': 1, 'Zathura': 1, 'duck': 1, 'ATV': 1, 'Ultramarathon': 1, 'composer': 1, 'ExposedGals': 1, 'Fisting': 1, 'disagreeable': 1, 'treepunchnet': 1, 'FamilyDinner': 1, 'soul': 1, 'Dreamtheater': 1, 'Dreadlocks': 1, 'rebelmusic': 1, 'jamiesanderson': 1, 'MuayThai': 1, 'transit': 1, 'loveland': 1, 'Turkey': 1, 'IntellectualReddit': 1, 'NBA2k': 1, 'ukraine': 1, 'longhairs': 1, 'feat': 1, 'dp_dr': 1, 'hipsters': 1, 'bunkersluts': 1, 'ExpectationVsReality': 1, 'afilmaday2012': 1, 'missouri': 1, 'BJJSeminars': 1, 'udub': 1, 'sixers': 1, 'qurans': 1, 'SportsPorn': 1, 'Team_bEST': 1, 'truehipster': 1, 'iammarvin': 1, 'Watchmen': 1, 'TwinCitiesHiphop': 1, 'CulturalReferences': 1, 'ukelele': 1, 'ATS': 1, 'OhCumOn': 1, 'Gaytheists': 1, 'pug': 1, 'horrorbookclub': 1, 'SSU': 1, 'OldSkool_RaveAnthems': 1, 'popmusic': 1, 'orioles': 1, 'IronCitadel': 1, 'JoeRogan': 1, 'ENFP': 1, 'comeonandslam': 1, 'MyLittlePolitics': 1, 'Ornithology': 1, 'redditlists': 1, 'codbo': 1, 'redneckproblems': 1, 'wildhockey': 1, 'Concordia': 1, 'CuteGuyButts': 1, 'LSU': 1, 'SeattleUrbEx': 1, 'VariousLinks': 1, 'originsucks': 1, 'omahaWHS': 1, 'WWEGames': 1, 'breesh': 1, 'roanoke': 1, 'geneseo': 1, 'Epcot': 1, 'southpaws': 1, 'maker': 1, 'CasualAMA': 1, 'reggae': 1, 'WTFbrain': 1, 'lectures': 1, 'Scholar': 1, 'ROTC': 1, 'f7u12': 1, 'AustralianTennis': 1, 'alltheleft': 1, 'ForzaTour': 1, 'BooksAMA': 1, 'ThankYou': 1, 'bigfoot': 1, 'bustybabes': 1, 'Gymnastics': 1, 'beauty': 1, 'bigboobs': 1, 'CrossingTheT': 1, 'FAmusic': 1, 'bahai': 1, 'AskHistory': 1, 'bucketlist': 1, 'Web_Development': 1, 'MissingPersons': 1, 'Drag': 1, 'peggle': 1, 'tarantulas': 1, 'laughingbuddha': 1, 'Plays': 1, 'aiken': 1, 'Hell_On_Wheels': 1, 'mylittlecirclejerk': 1, 'fellatio': 1, 'UCDavis': 1, 'Utah': 1, 'murfreesboro': 1, 'meat': 1, 'whichbike': 1, 'Animal': 1, 'MilitaryMen': 1, 'kzoo': 1, 'chomsky': 1, 'circleofstoned': 1, 'NewtownRulz': 1, 'TheWatchTowers': 1, 'partyallthetime': 1, 'TheAdventuresofTintin': 1, 'bachelor_chow': 1, 'agitation': 1, 'TibiaMMO': 1, 'mazda': 1, 'GirlsinSchoolUniforms': 1, 'asianeats': 1, 'fortwayne': 1, 'auslaw': 1, 'Malazan': 1, 'sensiblewashington': 1, 'cupcakes': 1, 'WisconsinBadgers': 1, 'kickstarter': 1, 'pokemonwtf': 1, 'ScotchSwap': 1, 'realpics': 1, 'ambient': 1, 'nrl': 1, 'homebuilt': 1, 'poop': 1, 'disco_biscuits': 1, 'tradingfaces': 1})\n"
          ]
        }
      ],
      "source": [
        "import pandas as pd\n",
        "import re\n",
        "from collections import Counter\n",
        "\n",
        "# Initialize an empty list to store rows\n",
        "rows = []\n",
        "\n",
        "# Initialize a Counter to count subreddit occurrences and rows per subreddit\n",
        "subreddit_counts = Counter()\n",
        "rows_per_subreddit = Counter()\n",
        "\n",
        "nsfw_keywords = ['nsfw', 'adult', 'sex', 'porn', 'xxx', 'gonewild', 'nudes', 'slut', 'WTF',\n",
        "                'hentai', 'cum', 'rule34', 'pussy', 'onlyfans', 'milf', 'nude', 'boob']\n",
        "\n",
        "row_variable = 200000  # only 7,000,000 rows\n",
        "subreddit_limit_percentage = 0.008  # Limit each subreddit to 0.8% of the total rows\n",
        "\n",
        "while len(rows) < row_variable:\n",
        "    extract_data = next(it)\n",
        "    text = extract_data['body']\n",
        "    score = extract_data['score']\n",
        "    labels = extract_data['subreddit']\n",
        "\n",
        "\n",
        "\n",
        "    # Check if adding this row would exceed the subreddit limit\n",
        "    if rows_per_subreddit[labels] >= row_variable * subreddit_limit_percentage:\n",
        "        continue\n",
        "\n",
        "    # Update subreddit count and rows per subreddit count\n",
        "    subreddit_counts[labels] += 1\n",
        "    rows_per_subreddit[labels] += 1\n",
        "\n",
        "    # Append row data to the list\n",
        "    rows.append({'text': text, 'score': score, 'labels': labels})\n",
        "\n",
        "    if len(rows) % 100000 == 0:\n",
        "        print(len(rows))\n",
        "\n",
        "# Create DataFrame from the list of rows\n",
        "df = pd.DataFrame(rows)\n",
        "\n",
        "print(df.head())\n",
        "print(subreddit_counts)"
      ]
    },
    {
      "cell_type": "code",
      "source": [
        "end_df_time = time.time()"
      ],
      "metadata": {
        "id": "_jc96Lfbl0ou"
      },
      "execution_count": 32,
      "outputs": []
    },
    {
      "cell_type": "code",
      "source": [
        "print(\"This is the df_time:\", {start_df_time - end_df_time})"
      ],
      "metadata": {
        "colab": {
          "base_uri": "https://localhost:8080/"
        },
        "id": "yLzZtX8Il3vU",
        "outputId": "1f86716e-e35c-4fd9-97d6-83b5f9dc0ab1"
      },
      "execution_count": 33,
      "outputs": [
        {
          "output_type": "stream",
          "name": "stdout",
          "text": [
            "This is the df_time: {-132.45948553085327}\n"
          ]
        }
      ]
    },
    {
      "cell_type": "code",
      "source": [
        "df.to_csv('output.csv', index=False)"
      ],
      "metadata": {
        "id": "Wwl85atQ1bLy"
      },
      "execution_count": 34,
      "outputs": []
    },
    {
      "cell_type": "code",
      "source": [
        "if np.isinf(df['score']).any():\n",
        "  print(\"HELLO\")"
      ],
      "metadata": {
        "id": "z_rCzhvMCpBW"
      },
      "execution_count": 35,
      "outputs": []
    },
    {
      "cell_type": "code",
      "execution_count": 36,
      "metadata": {
        "id": "MQfMxKSCICcs"
      },
      "outputs": [],
      "source": [
        "id2label = dict(enumerate(set(df['labels'])))\n",
        "#print(id2label)"
      ]
    },
    {
      "cell_type": "code",
      "execution_count": 37,
      "metadata": {
        "id": "F3O0vH7vRuSO",
        "colab": {
          "base_uri": "https://localhost:8080/"
        },
        "outputId": "7e3fadde-6175-482c-eded-771cb0329d21"
      },
      "outputs": [
        {
          "output_type": "stream",
          "name": "stderr",
          "text": [
            "Some weights of RobertaForSequenceClassification were not initialized from the model checkpoint at roberta-base and are newly initialized: ['classifier.dense.bias', 'classifier.dense.weight', 'classifier.out_proj.bias', 'classifier.out_proj.weight']\n",
            "You should probably TRAIN this model on a down-stream task to be able to use it for predictions and inference.\n"
          ]
        }
      ],
      "source": [
        "\n",
        "# Load roberta model and tokenizer filling out the code below based on the documentation HINT: Click on on use in transformers and the code will be there\n",
        "#model_name = \"Roberta model\"# code unnessisary but I like to use it to store the string name to make the code cleaner\n",
        "tokenizer = RobertaTokenizer.from_pretrained('roberta-base')\n",
        "model = RobertaForSequenceClassification.from_pretrained(\"roberta-base\", num_labels = len(id2label))\n"
      ]
    },
    {
      "cell_type": "code",
      "execution_count": 38,
      "metadata": {
        "id": "l-C-25lx7zQu"
      },
      "outputs": [],
      "source": [
        "nan_rows = df[df.isna().T.any().T]\n",
        "nan_rows.head()\n",
        "null_rows = df[df.isnull().any(axis=1)]\n",
        "null_rows.head()\n",
        "if np.isinf(df['score']).any():\n",
        "  print(\"HELLO\")\n",
        "\n",
        "df = df[df['score'] > -50]"
      ]
    },
    {
      "cell_type": "code",
      "source": [
        "df['labels'].value_counts()"
      ],
      "metadata": {
        "colab": {
          "base_uri": "https://localhost:8080/"
        },
        "id": "MtD3uuTWEB65",
        "outputId": "9d96193a-1097-4791-9778-86f851aea2a2"
      },
      "execution_count": 39,
      "outputs": [
        {
          "output_type": "execute_result",
          "data": {
            "text/plain": [
              "labels\n",
              "worldnews              1600\n",
              "IAmA                   1600\n",
              "AskReddit              1600\n",
              "videos                 1600\n",
              "fffffffuuuuuuuuuuuu    1600\n",
              "                       ... \n",
              "agitation                 1\n",
              "TibiaMMO                  1\n",
              "mazda                     1\n",
              "Epcot                     1\n",
              "southpaws                 1\n",
              "Name: count, Length: 3669, dtype: int64"
            ]
          },
          "metadata": {},
          "execution_count": 39
        }
      ]
    },
    {
      "cell_type": "code",
      "source": [
        "label_counts = df['labels'].value_counts()\n",
        "labels_to_remove = label_counts[label_counts < 2].index\n",
        "df = df[~df['labels'].isin(labels_to_remove)]"
      ],
      "metadata": {
        "id": "VyiiEevjCzbQ"
      },
      "execution_count": 40,
      "outputs": []
    },
    {
      "cell_type": "code",
      "source": [
        "df['labels'].info()"
      ],
      "metadata": {
        "colab": {
          "base_uri": "https://localhost:8080/"
        },
        "id": "q0nwLZe0K85n",
        "outputId": "b1eaff5f-cf7b-4c94-e4f8-09a42de4d5a9"
      },
      "execution_count": 41,
      "outputs": [
        {
          "output_type": "stream",
          "name": "stdout",
          "text": [
            "<class 'pandas.core.series.Series'>\n",
            "Index: 199061 entries, 0 to 199999\n",
            "Series name: labels\n",
            "Non-Null Count   Dtype \n",
            "--------------   ----- \n",
            "199061 non-null  object\n",
            "dtypes: object(1)\n",
            "memory usage: 3.0+ MB\n"
          ]
        }
      ]
    },
    {
      "cell_type": "code",
      "execution_count": 42,
      "metadata": {
        "id": "exYOU14h79PV"
      },
      "outputs": [],
      "source": [
        "from sklearn.model_selection import train_test_split\n",
        "\n",
        "#using the train_test_split function and set the test size to .21\n",
        "train_texts, val_texts, train_labels, val_labels = train_test_split(df['text'], df['labels'], test_size=0.21, stratify = df['labels'])\n",
        "\n",
        "\n",
        "tokenizer = AutoTokenizer.from_pretrained(\"FacebookAI/roberta-base\")\n",
        "# Reset the index\n",
        "train_texts, train_labels = train_texts.reset_index(drop=True), train_labels.reset_index(drop=True)\n",
        "val_texts, val_labels = val_texts.reset_index(drop=True), val_labels.reset_index(drop=True)\n",
        "train_encodings = tokenizer(list(train_texts), truncation=True, padding=True, return_tensors = \"pt\")\n",
        "val_encodings = tokenizer(list(val_texts), truncation=True, padding=True, return_tensors = \"pt\")"
      ]
    },
    {
      "cell_type": "code",
      "execution_count": 43,
      "metadata": {
        "id": "UBmnc7lwXLee"
      },
      "outputs": [],
      "source": [
        "id2label_reversed = {v: k for k, v in id2label.items()}\n",
        "#print(id2label_reversed)"
      ]
    },
    {
      "cell_type": "code",
      "execution_count": 44,
      "metadata": {
        "id": "EKbLvr4b8SlL"
      },
      "outputs": [],
      "source": [
        "import torch as pt\n",
        "\n",
        "class SpamDataset(pt.utils.data.Dataset):\n",
        "    def __init__(self, encodings, labels):\n",
        "        self.encodings = encodings\n",
        "        self.labels = labels.values\n",
        "\n",
        "    def __getitem__(self, idx):\n",
        "        item = {key: pt.tensor(val[idx]) for key, val in self.encodings.items()}\n",
        "        if len(self.labels) > 0:  # Check if labels array has any elements\n",
        "            labels = self.labels[idx]\n",
        "            #print(labels)\n",
        "            labels_converted = id2label_reversed[labels]\n",
        "            #print(labels_converted)\n",
        "            item[\"labels\"] = pt.tensor(labels_converted)\n",
        "        return item\n",
        "    def __len__(self):\n",
        "        #print(len(self.labels))\n",
        "        return len(self.labels)\n",
        "\n",
        "def list_of_dicts_to_dict_of_lists(d):\n",
        "  dic = d[0]\n",
        "  keys = dic.keys()\n",
        "  values = [dic.values() for dic in d]\n",
        "  return {k: list(v) for k,v in zip(keys, zip(*values))}"
      ]
    },
    {
      "cell_type": "code",
      "execution_count": 45,
      "metadata": {
        "id": "wyNlqi6o8gni"
      },
      "outputs": [],
      "source": [
        "Train_Dataset = SpamDataset(train_encodings, train_labels)\n",
        "Val_Dataset = SpamDataset(val_encodings, val_labels)"
      ]
    },
    {
      "cell_type": "code",
      "execution_count": 46,
      "metadata": {
        "id": "7uSrVUdE8uXK"
      },
      "outputs": [],
      "source": [
        "from sklearn.metrics import accuracy_score\n",
        "\n",
        "metric = evaluate.load(\"accuracy\")\n",
        "\n",
        "\n",
        "def compute_metrics(eval_pred):\n",
        "    logits, labels = eval_pred\n",
        "    predictions = np.argmax(logits, axis=-1)\n",
        "    return metric.compute(predictions=predictions, references=labels)\n"
      ]
    },
    {
      "cell_type": "code",
      "execution_count": 47,
      "metadata": {
        "id": "HwY09Fscb2aF"
      },
      "outputs": [],
      "source": [
        "#%set_env CUDA_LAUNCH_BLOCKING=1"
      ]
    },
    {
      "cell_type": "code",
      "execution_count": 48,
      "metadata": {
        "id": "uB5nuHj7K989"
      },
      "outputs": [],
      "source": [
        "#%env CUDA_LAUNCH_BLOCKING"
      ]
    },
    {
      "cell_type": "code",
      "execution_count": 49,
      "metadata": {
        "id": "h62xDRbT8vQn"
      },
      "outputs": [],
      "source": [
        "training_args = TrainingArguments(\n",
        "    output_dir='my_model',          # output directory\n",
        "    num_train_epochs=2,              # total number of training epochs, let's try 1 for now\n",
        "    per_device_train_batch_size=32,  # batch size per device during training\n",
        "    per_device_eval_batch_size=48,   # batch size for evaluation\n",
        "    warmup_steps=500,                # number of warmup steps for learning rate scheduler\n",
        "    weight_decay=0.01,               # strength of weight decay\n",
        "    logging_dir='./logs',            # directory for storing logs\n",
        "    logging_steps=250,\n",
        "    gradient_accumulation_steps=2,  # Accumulate gradients over 2 batches\n",
        "    fp16=True,\n",
        "\n",
        ")\n",
        "\n",
        "\n",
        "\n",
        "trainer = Trainer(\n",
        "    model = model,\n",
        "    args = training_args,\n",
        "    train_dataset = Train_Dataset,\n",
        "    eval_dataset = Val_Dataset,\n",
        "    compute_metrics = compute_metrics\n",
        "    #TODO: figure out what 5 params we need here. There should be 5 and the last is how we compute the metrics later . . .\n",
        ")"
      ]
    },
    {
      "cell_type": "code",
      "source": [
        "start_train_time = time.time()"
      ],
      "metadata": {
        "id": "mgTy81KQmBu6"
      },
      "execution_count": 50,
      "outputs": []
    },
    {
      "cell_type": "code",
      "execution_count": 51,
      "metadata": {
        "id": "TQ2Ec2ji82qB",
        "colab": {
          "base_uri": "https://localhost:8080/",
          "height": 1000
        },
        "outputId": "7180a986-628e-4cf3-9be7-3506746cc8f7"
      },
      "outputs": [
        {
          "output_type": "stream",
          "name": "stderr",
          "text": [
            "<ipython-input-44-d8518a5f2f5c>:9: UserWarning: To copy construct from a tensor, it is recommended to use sourceTensor.clone().detach() or sourceTensor.clone().detach().requires_grad_(True), rather than torch.tensor(sourceTensor).\n",
            "  item = {key: pt.tensor(val[idx]) for key, val in self.encodings.items()}\n"
          ]
        },
        {
          "output_type": "display_data",
          "data": {
            "text/plain": [
              "<IPython.core.display.HTML object>"
            ],
            "text/html": [
              "\n",
              "    <div>\n",
              "      \n",
              "      <progress value='4914' max='4914' style='width:300px; height:20px; vertical-align: middle;'></progress>\n",
              "      [4914/4914 2:18:59, Epoch 1/2]\n",
              "    </div>\n",
              "    <table border=\"1\" class=\"dataframe\">\n",
              "  <thead>\n",
              " <tr style=\"text-align: left;\">\n",
              "      <th>Step</th>\n",
              "      <th>Training Loss</th>\n",
              "    </tr>\n",
              "  </thead>\n",
              "  <tbody>\n",
              "    <tr>\n",
              "      <td>250</td>\n",
              "      <td>7.706500</td>\n",
              "    </tr>\n",
              "    <tr>\n",
              "      <td>500</td>\n",
              "      <td>6.395600</td>\n",
              "    </tr>\n",
              "    <tr>\n",
              "      <td>750</td>\n",
              "      <td>6.044900</td>\n",
              "    </tr>\n",
              "    <tr>\n",
              "      <td>1000</td>\n",
              "      <td>5.786800</td>\n",
              "    </tr>\n",
              "    <tr>\n",
              "      <td>1250</td>\n",
              "      <td>5.639700</td>\n",
              "    </tr>\n",
              "    <tr>\n",
              "      <td>1500</td>\n",
              "      <td>5.506800</td>\n",
              "    </tr>\n",
              "    <tr>\n",
              "      <td>1750</td>\n",
              "      <td>5.407600</td>\n",
              "    </tr>\n",
              "    <tr>\n",
              "      <td>2000</td>\n",
              "      <td>5.286400</td>\n",
              "    </tr>\n",
              "    <tr>\n",
              "      <td>2250</td>\n",
              "      <td>5.229400</td>\n",
              "    </tr>\n",
              "    <tr>\n",
              "      <td>2500</td>\n",
              "      <td>5.141700</td>\n",
              "    </tr>\n",
              "    <tr>\n",
              "      <td>2750</td>\n",
              "      <td>4.946400</td>\n",
              "    </tr>\n",
              "    <tr>\n",
              "      <td>3000</td>\n",
              "      <td>4.954000</td>\n",
              "    </tr>\n",
              "    <tr>\n",
              "      <td>3250</td>\n",
              "      <td>4.896700</td>\n",
              "    </tr>\n",
              "    <tr>\n",
              "      <td>3500</td>\n",
              "      <td>4.861700</td>\n",
              "    </tr>\n",
              "    <tr>\n",
              "      <td>3750</td>\n",
              "      <td>4.852700</td>\n",
              "    </tr>\n",
              "    <tr>\n",
              "      <td>4000</td>\n",
              "      <td>4.813500</td>\n",
              "    </tr>\n",
              "    <tr>\n",
              "      <td>4250</td>\n",
              "      <td>4.774500</td>\n",
              "    </tr>\n",
              "    <tr>\n",
              "      <td>4500</td>\n",
              "      <td>4.770700</td>\n",
              "    </tr>\n",
              "    <tr>\n",
              "      <td>4750</td>\n",
              "      <td>4.773100</td>\n",
              "    </tr>\n",
              "  </tbody>\n",
              "</table><p>"
            ]
          },
          "metadata": {}
        },
        {
          "output_type": "stream",
          "name": "stderr",
          "text": [
            "<ipython-input-44-d8518a5f2f5c>:9: UserWarning: To copy construct from a tensor, it is recommended to use sourceTensor.clone().detach() or sourceTensor.clone().detach().requires_grad_(True), rather than torch.tensor(sourceTensor).\n",
            "  item = {key: pt.tensor(val[idx]) for key, val in self.encodings.items()}\n",
            "<ipython-input-44-d8518a5f2f5c>:9: UserWarning: To copy construct from a tensor, it is recommended to use sourceTensor.clone().detach() or sourceTensor.clone().detach().requires_grad_(True), rather than torch.tensor(sourceTensor).\n",
            "  item = {key: pt.tensor(val[idx]) for key, val in self.encodings.items()}\n",
            "<ipython-input-44-d8518a5f2f5c>:9: UserWarning: To copy construct from a tensor, it is recommended to use sourceTensor.clone().detach() or sourceTensor.clone().detach().requires_grad_(True), rather than torch.tensor(sourceTensor).\n",
            "  item = {key: pt.tensor(val[idx]) for key, val in self.encodings.items()}\n",
            "<ipython-input-44-d8518a5f2f5c>:9: UserWarning: To copy construct from a tensor, it is recommended to use sourceTensor.clone().detach() or sourceTensor.clone().detach().requires_grad_(True), rather than torch.tensor(sourceTensor).\n",
            "  item = {key: pt.tensor(val[idx]) for key, val in self.encodings.items()}\n",
            "<ipython-input-44-d8518a5f2f5c>:9: UserWarning: To copy construct from a tensor, it is recommended to use sourceTensor.clone().detach() or sourceTensor.clone().detach().requires_grad_(True), rather than torch.tensor(sourceTensor).\n",
            "  item = {key: pt.tensor(val[idx]) for key, val in self.encodings.items()}\n",
            "<ipython-input-44-d8518a5f2f5c>:9: UserWarning: To copy construct from a tensor, it is recommended to use sourceTensor.clone().detach() or sourceTensor.clone().detach().requires_grad_(True), rather than torch.tensor(sourceTensor).\n",
            "  item = {key: pt.tensor(val[idx]) for key, val in self.encodings.items()}\n",
            "<ipython-input-44-d8518a5f2f5c>:9: UserWarning: To copy construct from a tensor, it is recommended to use sourceTensor.clone().detach() or sourceTensor.clone().detach().requires_grad_(True), rather than torch.tensor(sourceTensor).\n",
            "  item = {key: pt.tensor(val[idx]) for key, val in self.encodings.items()}\n",
            "<ipython-input-44-d8518a5f2f5c>:9: UserWarning: To copy construct from a tensor, it is recommended to use sourceTensor.clone().detach() or sourceTensor.clone().detach().requires_grad_(True), rather than torch.tensor(sourceTensor).\n",
            "  item = {key: pt.tensor(val[idx]) for key, val in self.encodings.items()}\n",
            "<ipython-input-44-d8518a5f2f5c>:9: UserWarning: To copy construct from a tensor, it is recommended to use sourceTensor.clone().detach() or sourceTensor.clone().detach().requires_grad_(True), rather than torch.tensor(sourceTensor).\n",
            "  item = {key: pt.tensor(val[idx]) for key, val in self.encodings.items()}\n"
          ]
        },
        {
          "output_type": "execute_result",
          "data": {
            "text/plain": [
              "TrainOutput(global_step=4914, training_loss=5.338130045771647, metrics={'train_runtime': 8341.3637, 'train_samples_per_second': 37.706, 'train_steps_per_second': 0.589, 'total_flos': 8.546581247730278e+16, 'train_loss': 5.338130045771647, 'epoch': 1.9995930824008137})"
            ]
          },
          "metadata": {},
          "execution_count": 51
        }
      ],
      "source": [
        "# TODO: Train the model (HINT: this is 1 short line of code just calling the trainer)\n",
        "trainer.train()"
      ]
    },
    {
      "cell_type": "code",
      "source": [
        "final_train_time = time.time()\n",
        "print(f\"Training took {final_train_time - start_train_time} seconds\")"
      ],
      "metadata": {
        "colab": {
          "base_uri": "https://localhost:8080/"
        },
        "id": "tJRfXLqTmD7j",
        "outputId": "7a30fc2e-6e82-4991-c89b-1fe004585379"
      },
      "execution_count": 52,
      "outputs": [
        {
          "output_type": "stream",
          "name": "stdout",
          "text": [
            "Training took 8341.716629266739 seconds\n"
          ]
        }
      ]
    },
    {
      "cell_type": "code",
      "execution_count": 53,
      "metadata": {
        "id": "jbyI1fiW84lG",
        "colab": {
          "base_uri": "https://localhost:8080/",
          "height": 92
        },
        "outputId": "79be7d69-d04b-452a-b9aa-66b5aef34348"
      },
      "outputs": [
        {
          "output_type": "stream",
          "name": "stderr",
          "text": [
            "<ipython-input-44-d8518a5f2f5c>:9: UserWarning: To copy construct from a tensor, it is recommended to use sourceTensor.clone().detach() or sourceTensor.clone().detach().requires_grad_(True), rather than torch.tensor(sourceTensor).\n",
            "  item = {key: pt.tensor(val[idx]) for key, val in self.encodings.items()}\n"
          ]
        },
        {
          "output_type": "display_data",
          "data": {
            "text/plain": [
              "<IPython.core.display.HTML object>"
            ],
            "text/html": [
              "\n",
              "    <div>\n",
              "      \n",
              "      <progress value='871' max='871' style='width:300px; height:20px; vertical-align: middle;'></progress>\n",
              "      [871/871 05:38]\n",
              "    </div>\n",
              "    "
            ]
          },
          "metadata": {}
        }
      ],
      "source": [
        "#TODO use the evaluate method on the trainer to get and print the results. Feel free to look at Huggingface Docs\n",
        "results = trainer.evaluate()"
      ]
    },
    {
      "cell_type": "code",
      "source": [
        "print(results)"
      ],
      "metadata": {
        "colab": {
          "base_uri": "https://localhost:8080/"
        },
        "id": "UzYalFkXQq11",
        "outputId": "79017f97-4255-404e-a809-402755a87c41"
      },
      "execution_count": 54,
      "outputs": [
        {
          "output_type": "stream",
          "name": "stdout",
          "text": [
            "{'eval_loss': 4.804318904876709, 'eval_accuracy': 0.178527856852379, 'eval_runtime': 340.1211, 'eval_samples_per_second': 122.906, 'eval_steps_per_second': 2.561, 'epoch': 1.9995930824008137}\n"
          ]
        }
      ]
    },
    {
      "cell_type": "code",
      "execution_count": 55,
      "metadata": {
        "id": "dtlW8CVc86Uu"
      },
      "outputs": [],
      "source": [
        "# TODO: Save the model\n",
        "trainer.save_model('my_model')"
      ]
    },
    {
      "cell_type": "code",
      "source": [
        "# TODO: Now to finish off I want you to load the model you trained and saved and write a fake spam email for it mthen have the model classify it\n",
        "model = AutoModelForSequenceClassification.from_pretrained(\"my_model\")\n",
        "msg = \"boston celtics\"\n",
        "msg_encodings = tokenizer(msg, truncation=True, padding=True, return_tensors = \"pt\")\n",
        "\n",
        "outputs = model(**msg_encodings)\n",
        "probabilities = torch.softmax(outputs.logits[0], dim = 0 )\n",
        "sort_prob = probabilities.sort(descending = True)\n",
        "#print(f\"outputs: {outputs}\")\n"
      ],
      "metadata": {
        "id": "e7NE8acdaeBN"
      },
      "execution_count": 56,
      "outputs": []
    },
    {
      "cell_type": "code",
      "execution_count": 57,
      "metadata": {
        "id": "EDJkle-YOEsp",
        "colab": {
          "base_uri": "https://localhost:8080/"
        },
        "outputId": "ca13f59c-5d29-460a-a260-2696453ac58e"
      },
      "outputs": [
        {
          "output_type": "stream",
          "name": "stdout",
          "text": [
            "0.5040639042854309\n",
            "nba\n"
          ]
        }
      ],
      "source": [
        "outputs.logits.shape\n",
        "len(id2label)\n",
        "probabilities = torch.softmax(outputs.logits[0], dim = 0 )\n",
        "sort_prob = probabilities.sort(descending = True)\n",
        "print(sort_prob.values[0].item())\n",
        "print(id2label[sort_prob.indices[0].item()])\n",
        "\n"
      ]
    },
    {
      "cell_type": "code",
      "execution_count": 58,
      "metadata": {
        "id": "7Zlnb0t_Osvd"
      },
      "outputs": [],
      "source": [
        "def print_out_top_x_probs(phrase):\n",
        "    phrase_encoding = tokenizer(phrase, truncation=True, padding=True, return_tensors=\"pt\")\n",
        "    output = model(**phrase_encoding)\n",
        "    probabilities = torch.softmax(output.logits[0], dim=0)\n",
        "    sort_prob_values, sort_prob_indices = probabilities.sort(descending=True)\n",
        "\n",
        "    for n in range(10):\n",
        "        tensor_probs = sort_prob_values[n]\n",
        "        index = sort_prob_indices[n]\n",
        "        sort_prob_index_int = index.item()\n",
        "        subreddit_string = id2label[sort_prob_index_int]\n",
        "        print(f\"{n+1}. {subreddit_string} ({'%.2f' % (tensor_probs*100)}%)\")\n"
      ]
    },
    {
      "cell_type": "code",
      "source": [
        "phrase = \"hello\"\n",
        "iterations = 5\n",
        "print_out_top_x_probs(phrase)"
      ],
      "metadata": {
        "colab": {
          "base_uri": "https://localhost:8080/"
        },
        "id": "PRAQoXGTX4vZ",
        "outputId": "99de5129-5b8f-4628-b8b0-572a78ec4d73"
      },
      "execution_count": 67,
      "outputs": [
        {
          "output_type": "stream",
          "name": "stdout",
          "text": [
            "1. circlejerk (9.78%)\n",
            "2. gonewild (1.43%)\n",
            "3. Minecraft (1.33%)\n",
            "4. WTF (1.20%)\n",
            "5. fffffffuuuuuuuuuuuu (1.17%)\n",
            "6. RandomKindness (1.03%)\n",
            "7. nsfw (1.03%)\n",
            "8. playitforward (1.00%)\n",
            "9. funny (0.97%)\n",
            "10. AdviceAnimals (0.92%)\n"
          ]
        }
      ]
    },
    {
      "cell_type": "code",
      "execution_count": 60,
      "metadata": {
        "id": "YcnB-s5CnWVU"
      },
      "outputs": [],
      "source": [
        "# it's time to graph!\n",
        "\n",
        "from sklearn.metrics import f1_score, precision_score, recall_score, accuracy_score\n",
        "\n",
        "def compute_metrics(eval_pred):\n",
        "    logits, labels = eval_pred\n",
        "    predictions = np.argmax(logits, axis=-1)\n",
        "    f1 = f1_score(labels, predictions, average='weighted')\n",
        "    precision = precision_score(labels, predictions, average='weighted')\n",
        "    recall = recall_score(labels, predictions, average='weighted')\n",
        "    accuracy = accuracy_score(labels, predictions)\n",
        "    return {\n",
        "        'f1': f1,\n",
        "        'precision': precision,\n",
        "        'recall': recall,\n",
        "        'accuracy': accuracy\n",
        "    }\n"
      ]
    },
    {
      "cell_type": "code",
      "execution_count": 75,
      "metadata": {
        "id": "sDH9kGk1pKOz",
        "colab": {
          "base_uri": "https://localhost:8080/",
          "height": 472
        },
        "outputId": "c61ee914-ec4b-427b-838e-a340185eb092"
      },
      "outputs": [
        {
          "output_type": "display_data",
          "data": {
            "text/plain": [
              "<Figure size 640x480 with 1 Axes>"
            ],
            "image/png": "[encoded data removed]"
          },
          "metadata": {}
        }
      ],
      "source": [
        "def metric_prepare(trainer, met):\n",
        "    met_val = [(x[met], x['epoch']) for x in trainer.state.log_history if met in x]\n",
        "    met_val, epoch = zip(*met_val)\n",
        "\n",
        "    return met_val\n",
        "\n",
        "m1_acc = metric_prepare(trainer, \"eval_accuracy\")\n",
        "\n",
        "\n",
        "plt.plot(range(1, len(m1_acc) + 1), m1_acc, label=\"Model 1\")\n",
        "\n",
        "\n",
        "\n",
        "plt.grid()\n",
        "\n",
        "plt.legend()\n",
        "\n",
        "plt.xlabel(\"Epoch\")\n",
        "plt.ylabel(\"Accuracy\")\n",
        "\n",
        "plt.title(\"Model Accuracies over Epochs\")\n",
        "\n",
        "plt.show()\n"
      ]
    },
    {
      "cell_type": "code",
      "source": [
        "print(results)"
      ],
      "metadata": {
        "colab": {
          "base_uri": "https://localhost:8080/"
        },
        "id": "XwanbhtWG91I",
        "outputId": "1d6cb173-5373-46e1-f08f-a03609e6d4c4"
      },
      "execution_count": 77,
      "outputs": [
        {
          "output_type": "stream",
          "name": "stdout",
          "text": [
            "{'eval_loss': 4.804318904876709, 'eval_accuracy': 0.178527856852379, 'eval_runtime': 340.1211, 'eval_samples_per_second': 122.906, 'eval_steps_per_second': 2.561, 'epoch': 1.9995930824008137}\n"
          ]
        }
      ]
    },
    {
      "cell_type": "code",
      "source": [
        "trainer.save_model(\"gdrive/My Drive/Transformers\")"
      ],
      "metadata": {
        "id": "PBqon8JiKxc1"
      },
      "execution_count": 83,
      "outputs": []
    },
    {
      "cell_type": "code",
      "source": [
        "\n",
        "\n",
        "# Extract evaluation loss and accuracy values\n",
        "eval_loss_values = results['eval_loss']\n",
        "eval_accuracy_values = results['eval_accuracy']\n",
        "\n",
        "# Number of epochs\n",
        "num_epochs = 2\n",
        "epochs = list(range(1, 2 + 1))\n",
        "\n",
        "# Plotting evaluation loss over epochs\n",
        "plt.figure(figsize=(10, 5))\n",
        "plt.plot(epochs, eval_loss_values, label=\"Evaluation Loss\", color='b')\n",
        "plt.xlabel(\"Epoch\")\n",
        "plt.ylabel(\"Loss\")\n",
        "plt.title(\"Evaluation Loss over Epochs\")\n",
        "plt.legend()\n",
        "plt.grid(True)\n",
        "plt.show()\n",
        "\n",
        "# Plotting evaluation accuracy over epochs\n",
        "plt.figure(figsize=(10, 5))\n",
        "plt.plot(epochs, eval_accuracy_values, label=\"Evaluation Accuracy\", color='g')\n",
        "plt.xlabel(\"Epoch\")\n",
        "plt.ylabel(\"Accuracy\")\n",
        "plt.title(\"Evaluation Accuracy over Epochs\")\n",
        "plt.legend()\n",
        "plt.grid(True)\n",
        "plt.show()\n"
      ],
      "metadata": {
        "colab": {
          "base_uri": "https://localhost:8080/",
          "height": 725
        },
        "id": "ODJ2d3YjKMVt",
        "outputId": "e6e2d75d-b1eb-4db9-e6b1-b3713000aaa6"
      },
      "execution_count": 81,
      "outputs": [
        {
          "output_type": "error",
          "ename": "ValueError",
          "evalue": "x and y must have same first dimension, but have shapes (2,) and (1,)",
          "traceback": [
            "\u001b[0;31m---------------------------------------------------------------------------\u001b[0m",
            "\u001b[0;31mValueError\u001b[0m                                Traceback (most recent call last)",
            "\u001b[0;32m<ipython-input-81-6d595581803b>\u001b[0m in \u001b[0;36m<cell line: 11>\u001b[0;34m()\u001b[0m\n\u001b[1;32m      9\u001b[0m \u001b[0;31m# Plotting evaluation loss over epochs\u001b[0m\u001b[0;34m\u001b[0m\u001b[0;34m\u001b[0m\u001b[0m\n\u001b[1;32m     10\u001b[0m \u001b[0mplt\u001b[0m\u001b[0;34m.\u001b[0m\u001b[0mfigure\u001b[0m\u001b[0;34m(\u001b[0m\u001b[0mfigsize\u001b[0m\u001b[0;34m=\u001b[0m\u001b[0;34m(\u001b[0m\u001b[0;36m10\u001b[0m\u001b[0;34m,\u001b[0m \u001b[0;36m5\u001b[0m\u001b[0;34m)\u001b[0m\u001b[0;34m)\u001b[0m\u001b[0;34m\u001b[0m\u001b[0;34m\u001b[0m\u001b[0m\n\u001b[0;32m---> 11\u001b[0;31m \u001b[0mplt\u001b[0m\u001b[0;34m.\u001b[0m\u001b[0mplot\u001b[0m\u001b[0;34m(\u001b[0m\u001b[0mepochs\u001b[0m\u001b[0;34m,\u001b[0m \u001b[0meval_loss_values\u001b[0m\u001b[0;34m,\u001b[0m \u001b[0mlabel\u001b[0m\u001b[0;34m=\u001b[0m\u001b[0;34m\"Evaluation Loss\"\u001b[0m\u001b[0;34m,\u001b[0m \u001b[0mcolor\u001b[0m\u001b[0;34m=\u001b[0m\u001b[0;34m'b'\u001b[0m\u001b[0;34m)\u001b[0m\u001b[0;34m\u001b[0m\u001b[0;34m\u001b[0m\u001b[0m\n\u001b[0m\u001b[1;32m     12\u001b[0m \u001b[0mplt\u001b[0m\u001b[0;34m.\u001b[0m\u001b[0mxlabel\u001b[0m\u001b[0;34m(\u001b[0m\u001b[0;34m\"Epoch\"\u001b[0m\u001b[0;34m)\u001b[0m\u001b[0;34m\u001b[0m\u001b[0;34m\u001b[0m\u001b[0m\n\u001b[1;32m     13\u001b[0m \u001b[0mplt\u001b[0m\u001b[0;34m.\u001b[0m\u001b[0mylabel\u001b[0m\u001b[0;34m(\u001b[0m\u001b[0;34m\"Loss\"\u001b[0m\u001b[0;34m)\u001b[0m\u001b[0;34m\u001b[0m\u001b[0;34m\u001b[0m\u001b[0m\n",
            "\u001b[0;32m/usr/local/lib/python3.10/dist-packages/matplotlib/pyplot.py\u001b[0m in \u001b[0;36mplot\u001b[0;34m(scalex, scaley, data, *args, **kwargs)\u001b[0m\n\u001b[1;32m   2810\u001b[0m \u001b[0;34m@\u001b[0m\u001b[0m_copy_docstring_and_deprecators\u001b[0m\u001b[0;34m(\u001b[0m\u001b[0mAxes\u001b[0m\u001b[0;34m.\u001b[0m\u001b[0mplot\u001b[0m\u001b[0;34m)\u001b[0m\u001b[0;34m\u001b[0m\u001b[0;34m\u001b[0m\u001b[0m\n\u001b[1;32m   2811\u001b[0m \u001b[0;32mdef\u001b[0m \u001b[0mplot\u001b[0m\u001b[0;34m(\u001b[0m\u001b[0;34m*\u001b[0m\u001b[0margs\u001b[0m\u001b[0;34m,\u001b[0m \u001b[0mscalex\u001b[0m\u001b[0;34m=\u001b[0m\u001b[0;32mTrue\u001b[0m\u001b[0;34m,\u001b[0m \u001b[0mscaley\u001b[0m\u001b[0;34m=\u001b[0m\u001b[0;32mTrue\u001b[0m\u001b[0;34m,\u001b[0m \u001b[0mdata\u001b[0m\u001b[0;34m=\u001b[0m\u001b[0;32mNone\u001b[0m\u001b[0;34m,\u001b[0m \u001b[0;34m**\u001b[0m\u001b[0mkwargs\u001b[0m\u001b[0;34m)\u001b[0m\u001b[0;34m:\u001b[0m\u001b[0;34m\u001b[0m\u001b[0;34m\u001b[0m\u001b[0m\n\u001b[0;32m-> 2812\u001b[0;31m     return gca().plot(\n\u001b[0m\u001b[1;32m   2813\u001b[0m         \u001b[0;34m*\u001b[0m\u001b[0margs\u001b[0m\u001b[0;34m,\u001b[0m \u001b[0mscalex\u001b[0m\u001b[0;34m=\u001b[0m\u001b[0mscalex\u001b[0m\u001b[0;34m,\u001b[0m \u001b[0mscaley\u001b[0m\u001b[0;34m=\u001b[0m\u001b[0mscaley\u001b[0m\u001b[0;34m,\u001b[0m\u001b[0;34m\u001b[0m\u001b[0;34m\u001b[0m\u001b[0m\n\u001b[1;32m   2814\u001b[0m         **({\"data\": data} if data is not None else {}), **kwargs)\n",
            "\u001b[0;32m/usr/local/lib/python3.10/dist-packages/matplotlib/axes/_axes.py\u001b[0m in \u001b[0;36mplot\u001b[0;34m(self, scalex, scaley, data, *args, **kwargs)\u001b[0m\n\u001b[1;32m   1686\u001b[0m         \"\"\"\n\u001b[1;32m   1687\u001b[0m         \u001b[0mkwargs\u001b[0m \u001b[0;34m=\u001b[0m \u001b[0mcbook\u001b[0m\u001b[0;34m.\u001b[0m\u001b[0mnormalize_kwargs\u001b[0m\u001b[0;34m(\u001b[0m\u001b[0mkwargs\u001b[0m\u001b[0;34m,\u001b[0m \u001b[0mmlines\u001b[0m\u001b[0;34m.\u001b[0m\u001b[0mLine2D\u001b[0m\u001b[0;34m)\u001b[0m\u001b[0;34m\u001b[0m\u001b[0;34m\u001b[0m\u001b[0m\n\u001b[0;32m-> 1688\u001b[0;31m         \u001b[0mlines\u001b[0m \u001b[0;34m=\u001b[0m \u001b[0;34m[\u001b[0m\u001b[0;34m*\u001b[0m\u001b[0mself\u001b[0m\u001b[0;34m.\u001b[0m\u001b[0m_get_lines\u001b[0m\u001b[0;34m(\u001b[0m\u001b[0;34m*\u001b[0m\u001b[0margs\u001b[0m\u001b[0;34m,\u001b[0m \u001b[0mdata\u001b[0m\u001b[0;34m=\u001b[0m\u001b[0mdata\u001b[0m\u001b[0;34m,\u001b[0m \u001b[0;34m**\u001b[0m\u001b[0mkwargs\u001b[0m\u001b[0;34m)\u001b[0m\u001b[0;34m]\u001b[0m\u001b[0;34m\u001b[0m\u001b[0;34m\u001b[0m\u001b[0m\n\u001b[0m\u001b[1;32m   1689\u001b[0m         \u001b[0;32mfor\u001b[0m \u001b[0mline\u001b[0m \u001b[0;32min\u001b[0m \u001b[0mlines\u001b[0m\u001b[0;34m:\u001b[0m\u001b[0;34m\u001b[0m\u001b[0;34m\u001b[0m\u001b[0m\n\u001b[1;32m   1690\u001b[0m             \u001b[0mself\u001b[0m\u001b[0;34m.\u001b[0m\u001b[0madd_line\u001b[0m\u001b[0;34m(\u001b[0m\u001b[0mline\u001b[0m\u001b[0;34m)\u001b[0m\u001b[0;34m\u001b[0m\u001b[0;34m\u001b[0m\u001b[0m\n",
            "\u001b[0;32m/usr/local/lib/python3.10/dist-packages/matplotlib/axes/_base.py\u001b[0m in \u001b[0;36m__call__\u001b[0;34m(self, data, *args, **kwargs)\u001b[0m\n\u001b[1;32m    309\u001b[0m                 \u001b[0mthis\u001b[0m \u001b[0;34m+=\u001b[0m \u001b[0margs\u001b[0m\u001b[0;34m[\u001b[0m\u001b[0;36m0\u001b[0m\u001b[0;34m]\u001b[0m\u001b[0;34m,\u001b[0m\u001b[0;34m\u001b[0m\u001b[0;34m\u001b[0m\u001b[0m\n\u001b[1;32m    310\u001b[0m                 \u001b[0margs\u001b[0m \u001b[0;34m=\u001b[0m \u001b[0margs\u001b[0m\u001b[0;34m[\u001b[0m\u001b[0;36m1\u001b[0m\u001b[0;34m:\u001b[0m\u001b[0;34m]\u001b[0m\u001b[0;34m\u001b[0m\u001b[0;34m\u001b[0m\u001b[0m\n\u001b[0;32m--> 311\u001b[0;31m             yield from self._plot_args(\n\u001b[0m\u001b[1;32m    312\u001b[0m                 this, kwargs, ambiguous_fmt_datakey=ambiguous_fmt_datakey)\n\u001b[1;32m    313\u001b[0m \u001b[0;34m\u001b[0m\u001b[0m\n",
            "\u001b[0;32m/usr/local/lib/python3.10/dist-packages/matplotlib/axes/_base.py\u001b[0m in \u001b[0;36m_plot_args\u001b[0;34m(self, tup, kwargs, return_kwargs, ambiguous_fmt_datakey)\u001b[0m\n\u001b[1;32m    502\u001b[0m \u001b[0;34m\u001b[0m\u001b[0m\n\u001b[1;32m    503\u001b[0m         \u001b[0;32mif\u001b[0m \u001b[0mx\u001b[0m\u001b[0;34m.\u001b[0m\u001b[0mshape\u001b[0m\u001b[0;34m[\u001b[0m\u001b[0;36m0\u001b[0m\u001b[0;34m]\u001b[0m \u001b[0;34m!=\u001b[0m \u001b[0my\u001b[0m\u001b[0;34m.\u001b[0m\u001b[0mshape\u001b[0m\u001b[0;34m[\u001b[0m\u001b[0;36m0\u001b[0m\u001b[0;34m]\u001b[0m\u001b[0;34m:\u001b[0m\u001b[0;34m\u001b[0m\u001b[0;34m\u001b[0m\u001b[0m\n\u001b[0;32m--> 504\u001b[0;31m             raise ValueError(f\"x and y must have same first dimension, but \"\n\u001b[0m\u001b[1;32m    505\u001b[0m                              f\"have shapes {x.shape} and {y.shape}\")\n\u001b[1;32m    506\u001b[0m         \u001b[0;32mif\u001b[0m \u001b[0mx\u001b[0m\u001b[0;34m.\u001b[0m\u001b[0mndim\u001b[0m \u001b[0;34m>\u001b[0m \u001b[0;36m2\u001b[0m \u001b[0;32mor\u001b[0m \u001b[0my\u001b[0m\u001b[0;34m.\u001b[0m\u001b[0mndim\u001b[0m \u001b[0;34m>\u001b[0m \u001b[0;36m2\u001b[0m\u001b[0;34m:\u001b[0m\u001b[0;34m\u001b[0m\u001b[0;34m\u001b[0m\u001b[0m\n",
            "\u001b[0;31mValueError\u001b[0m: x and y must have same first dimension, but have shapes (2,) and (1,)"
          ]
        },
        {
          "output_type": "display_data",
          "data": {
            "text/plain": [
              "<Figure size 1000x500 with 1 Axes>"
            ],
            "image/png": "[encoded data removed]"
          },
          "metadata": {}
        }
      ]
    },
    {
      "cell_type": "markdown",
      "metadata": {
        "id": "03nWNXTEpIMX"
      },
      "source": []
    }
  ],
  "metadata": {
    "accelerator": "GPU",
    "colab": {
      "gpuType": "L4",
      "machine_shape": "hm",
      "provenance": [],
      "include_colab_link": true
    },
    "kernelspec": {
      "display_name": "Python 3",
      "name": "python3"
    },
    "language_info": {
      "name": "python"
    },
    "widgets": {
      "application/vnd.jupyter.widget-state+json": {
        "d27514a18678425988afb0a9af51d4dd": {
          "model_module": "@jupyter-widgets/controls",
          "model_name": "HBoxModel",
          "model_module_version": "1.5.0",
          "state": {
            "_dom_classes": [],
            "_model_module": "@jupyter-widgets/controls",
            "_model_module_version": "1.5.0",
            "_model_name": "HBoxModel",
            "_view_count": null,
            "_view_module": "@jupyter-widgets/controls",
            "_view_module_version": "1.5.0",
            "_view_name": "HBoxView",
            "box_style": "",
            "children": [
              "IPY_MODEL_c36f6056acf94c0ca2dbefd45430da71",
              "IPY_MODEL_9c3e08c8203045538c7416a593df66cb",
              "IPY_MODEL_e22efe4453444a6fa851ba37bb066590"
            ],
            "layout": "IPY_MODEL_8b4e3e29649942aba4bca315cfd79d15"
          }
        },
        "c36f6056acf94c0ca2dbefd45430da71": {
          "model_module": "@jupyter-widgets/controls",
          "model_name": "HTMLModel",
          "model_module_version": "1.5.0",
          "state": {
            "_dom_classes": [],
            "_model_module": "@jupyter-widgets/controls",
            "_model_module_version": "1.5.0",
            "_model_name": "HTMLModel",
            "_view_count": null,
            "_view_module": "@jupyter-widgets/controls",
            "_view_module_version": "1.5.0",
            "_view_name": "HTMLView",
            "description": "",
            "description_tooltip": null,
            "layout": "IPY_MODEL_f8f0167f656e4ca19ecb470cb38c2d1a",
            "placeholder": "​",
            "style": "IPY_MODEL_29244102e8c946a4837e135cb7c336a0",
            "value": "Resolving data files: 100%"
          }
        },
        "9c3e08c8203045538c7416a593df66cb": {
          "model_module": "@jupyter-widgets/controls",
          "model_name": "FloatProgressModel",
          "model_module_version": "1.5.0",
          "state": {
            "_dom_classes": [],
            "_model_module": "@jupyter-widgets/controls",
            "_model_module_version": "1.5.0",
            "_model_name": "FloatProgressModel",
            "_view_count": null,
            "_view_module": "@jupyter-widgets/controls",
            "_view_module_version": "1.5.0",
            "_view_name": "ProgressView",
            "bar_style": "success",
            "description": "",
            "description_tooltip": null,
            "layout": "IPY_MODEL_1a6f0f55c0e54087b2d5c870909bd38a",
            "max": 50,
            "min": 0,
            "orientation": "horizontal",
            "style": "IPY_MODEL_ed0ba334b4a04865a53dba617a073f8a",
            "value": 50
          }
        },
        "e22efe4453444a6fa851ba37bb066590": {
          "model_module": "@jupyter-widgets/controls",
          "model_name": "HTMLModel",
          "model_module_version": "1.5.0",
          "state": {
            "_dom_classes": [],
            "_model_module": "@jupyter-widgets/controls",
            "_model_module_version": "1.5.0",
            "_model_name": "HTMLModel",
            "_view_count": null,
            "_view_module": "@jupyter-widgets/controls",
            "_view_module_version": "1.5.0",
            "_view_name": "HTMLView",
            "description": "",
            "description_tooltip": null,
            "layout": "IPY_MODEL_7113018b2e9040f6a6d16fdd19c010fe",
            "placeholder": "​",
            "style": "IPY_MODEL_e5842a56ab084a4fb985f29cf9352e77",
            "value": " 50/50 [00:00&lt;00:00,  2.83it/s]"
          }
        },
        "8b4e3e29649942aba4bca315cfd79d15": {
          "model_module": "@jupyter-widgets/base",
          "model_name": "LayoutModel",
          "model_module_version": "1.2.0",
          "state": {
            "_model_module": "@jupyter-widgets/base",
            "_model_module_version": "1.2.0",
            "_model_name": "LayoutModel",
            "_view_count": null,
            "_view_module": "@jupyter-widgets/base",
            "_view_module_version": "1.2.0",
            "_view_name": "LayoutView",
            "align_content": null,
            "align_items": null,
            "align_self": null,
            "border": null,
            "bottom": null,
            "display": null,
            "flex": null,
            "flex_flow": null,
            "grid_area": null,
            "grid_auto_columns": null,
            "grid_auto_flow": null,
            "grid_auto_rows": null,
            "grid_column": null,
            "grid_gap": null,
            "grid_row": null,
            "grid_template_areas": null,
            "grid_template_columns": null,
            "grid_template_rows": null,
            "height": null,
            "justify_content": null,
            "justify_items": null,
            "left": null,
            "margin": null,
            "max_height": null,
            "max_width": null,
            "min_height": null,
            "min_width": null,
            "object_fit": null,
            "object_position": null,
            "order": null,
            "overflow": null,
            "overflow_x": null,
            "overflow_y": null,
            "padding": null,
            "right": null,
            "top": null,
            "visibility": null,
            "width": null
          }
        },
        "f8f0167f656e4ca19ecb470cb38c2d1a": {
          "model_module": "@jupyter-widgets/base",
          "model_name": "LayoutModel",
          "model_module_version": "1.2.0",
          "state": {
            "_model_module": "@jupyter-widgets/base",
            "_model_module_version": "1.2.0",
            "_model_name": "LayoutModel",
            "_view_count": null,
            "_view_module": "@jupyter-widgets/base",
            "_view_module_version": "1.2.0",
            "_view_name": "LayoutView",
            "align_content": null,
            "align_items": null,
            "align_self": null,
            "border": null,
            "bottom": null,
            "display": null,
            "flex": null,
            "flex_flow": null,
            "grid_area": null,
            "grid_auto_columns": null,
            "grid_auto_flow": null,
            "grid_auto_rows": null,
            "grid_column": null,
            "grid_gap": null,
            "grid_row": null,
            "grid_template_areas": null,
            "grid_template_columns": null,
            "grid_template_rows": null,
            "height": null,
            "justify_content": null,
            "justify_items": null,
            "left": null,
            "margin": null,
            "max_height": null,
            "max_width": null,
            "min_height": null,
            "min_width": null,
            "object_fit": null,
            "object_position": null,
            "order": null,
            "overflow": null,
            "overflow_x": null,
            "overflow_y": null,
            "padding": null,
            "right": null,
            "top": null,
            "visibility": null,
            "width": null
          }
        },
        "29244102e8c946a4837e135cb7c336a0": {
          "model_module": "@jupyter-widgets/controls",
          "model_name": "DescriptionStyleModel",
          "model_module_version": "1.5.0",
          "state": {
            "_model_module": "@jupyter-widgets/controls",
            "_model_module_version": "1.5.0",
            "_model_name": "DescriptionStyleModel",
            "_view_count": null,
            "_view_module": "@jupyter-widgets/base",
            "_view_module_version": "1.2.0",
            "_view_name": "StyleView",
            "description_width": ""
          }
        },
        "1a6f0f55c0e54087b2d5c870909bd38a": {
          "model_module": "@jupyter-widgets/base",
          "model_name": "LayoutModel",
          "model_module_version": "1.2.0",
          "state": {
            "_model_module": "@jupyter-widgets/base",
            "_model_module_version": "1.2.0",
            "_model_name": "LayoutModel",
            "_view_count": null,
            "_view_module": "@jupyter-widgets/base",
            "_view_module_version": "1.2.0",
            "_view_name": "LayoutView",
            "align_content": null,
            "align_items": null,
            "align_self": null,
            "border": null,
            "bottom": null,
            "display": null,
            "flex": null,
            "flex_flow": null,
            "grid_area": null,
            "grid_auto_columns": null,
            "grid_auto_flow": null,
            "grid_auto_rows": null,
            "grid_column": null,
            "grid_gap": null,
            "grid_row": null,
            "grid_template_areas": null,
            "grid_template_columns": null,
            "grid_template_rows": null,
            "height": null,
            "justify_content": null,
            "justify_items": null,
            "left": null,
            "margin": null,
            "max_height": null,
            "max_width": null,
            "min_height": null,
            "min_width": null,
            "object_fit": null,
            "object_position": null,
            "order": null,
            "overflow": null,
            "overflow_x": null,
            "overflow_y": null,
            "padding": null,
            "right": null,
            "top": null,
            "visibility": null,
            "width": null
          }
        },
        "ed0ba334b4a04865a53dba617a073f8a": {
          "model_module": "@jupyter-widgets/controls",
          "model_name": "ProgressStyleModel",
          "model_module_version": "1.5.0",
          "state": {
            "_model_module": "@jupyter-widgets/controls",
            "_model_module_version": "1.5.0",
            "_model_name": "ProgressStyleModel",
            "_view_count": null,
            "_view_module": "@jupyter-widgets/base",
            "_view_module_version": "1.2.0",
            "_view_name": "StyleView",
            "bar_color": null,
            "description_width": ""
          }
        },
        "7113018b2e9040f6a6d16fdd19c010fe": {
          "model_module": "@jupyter-widgets/base",
          "model_name": "LayoutModel",
          "model_module_version": "1.2.0",
          "state": {
            "_model_module": "@jupyter-widgets/base",
            "_model_module_version": "1.2.0",
            "_model_name": "LayoutModel",
            "_view_count": null,
            "_view_module": "@jupyter-widgets/base",
            "_view_module_version": "1.2.0",
            "_view_name": "LayoutView",
            "align_content": null,
            "align_items": null,
            "align_self": null,
            "border": null,
            "bottom": null,
            "display": null,
            "flex": null,
            "flex_flow": null,
            "grid_area": null,
            "grid_auto_columns": null,
            "grid_auto_flow": null,
            "grid_auto_rows": null,
            "grid_column": null,
            "grid_gap": null,
            "grid_row": null,
            "grid_template_areas": null,
            "grid_template_columns": null,
            "grid_template_rows": null,
            "height": null,
            "justify_content": null,
            "justify_items": null,
            "left": null,
            "margin": null,
            "max_height": null,
            "max_width": null,
            "min_height": null,
            "min_width": null,
            "object_fit": null,
            "object_position": null,
            "order": null,
            "overflow": null,
            "overflow_x": null,
            "overflow_y": null,
            "padding": null,
            "right": null,
            "top": null,
            "visibility": null,
            "width": null
          }
        },
        "e5842a56ab084a4fb985f29cf9352e77": {
          "model_module": "@jupyter-widgets/controls",
          "model_name": "DescriptionStyleModel",
          "model_module_version": "1.5.0",
          "state": {
            "_model_module": "@jupyter-widgets/controls",
            "_model_module_version": "1.5.0",
            "_model_name": "DescriptionStyleModel",
            "_view_count": null,
            "_view_module": "@jupyter-widgets/base",
            "_view_module_version": "1.2.0",
            "_view_name": "StyleView",
            "description_width": ""
          }
        }
      }
    }
  },
  "nbformat": 4,
  "nbformat_minor": 0
}